{
 "cells": [
  {
   "cell_type": "code",
   "execution_count": 5,
   "metadata": {},
   "outputs": [],
   "source": [
    "from Data_Pipeline.config import gcs_bucket_name, service_account_file\n",
    "import os\n",
    "from afl_pipeline.pipeline import AFLDataPipeline"
   ]
  },
  {
   "cell_type": "code",
   "execution_count": 4,
   "metadata": {},
   "outputs": [],
   "source": [
    "os.environ['GOOGLE_APPLICATION_CREDENTIALS'] = service_account_file"
   ]
  },
  {
   "cell_type": "code",
   "execution_count": 9,
   "metadata": {},
   "outputs": [
    {
     "name": "stderr",
     "output_type": "stream",
     "text": [
      "2025-05-13 23:28:18,029 - afl_pipeline.pipeline - INFO - Using service account file: c:\\Users\\Lachlan\\Desktop\\Coding Journey\\AFL Analysis\\fitzRoy Python Adapter\\AFL_data_functions\\Data_Pipeline\\service_account_json_afl_pipeline.json\n",
      "2025-05-13 23:28:18,160 - afl_pipeline.storage - INFO - StorageManager initialized with bucket: afl-data\n",
      "2025-05-13 23:28:18,161 - afl_pipeline.bigquery - INFO - BigQueryManager initialized\n",
      "2025-05-13 23:28:18,161 - afl_pipeline.pipeline - INFO - AFLDataPipeline initialized with bucket: afl-data\n"
     ]
    }
   ],
   "source": [
    "pipeline = AFLDataPipeline(\n",
    "    service_account_file=service_account_file,\n",
    "    gcs_bucket_name=gcs_bucket_name\n",
    ")\n"
   ]
  },
  {
   "cell_type": "code",
   "execution_count": 10,
   "metadata": {},
   "outputs": [
    {
     "name": "stderr",
     "output_type": "stream",
     "text": [
      "2025-05-13 23:28:20,106 - afl_pipeline.pipeline - INFO - Running pipeline for years: [2024]\n",
      "2025-05-13 23:28:20,107 - afl_pipeline.pipeline - INFO - Processing year 2024\n",
      "2025-05-13 23:28:20,107 - afl_pipeline.pipeline - INFO - Fetching real data for year 2024\n",
      "2025-05-13 23:28:20,109 - afl_pipeline.pipeline - ERROR - Could not import fetch_player_stats. Make sure AFL_data_functions is in your Python path.\n",
      "2025-05-13 23:28:20,109 - afl_pipeline.pipeline - INFO - Pipeline completed. Successfully processed years: []\n"
     ]
    },
    {
     "data": {
      "text/plain": [
       "[]"
      ]
     },
     "execution_count": 10,
     "metadata": {},
     "output_type": "execute_result"
    }
   ],
   "source": [
    "pipeline.run_pipeline(years=[2024])"
   ]
  }
 ],
 "metadata": {
  "kernelspec": {
   "display_name": "Python 3",
   "language": "python",
   "name": "python3"
  },
  "language_info": {
   "codemirror_mode": {
    "name": "ipython",
    "version": 3
   },
   "file_extension": ".py",
   "mimetype": "text/x-python",
   "name": "python",
   "nbconvert_exporter": "python",
   "pygments_lexer": "ipython3",
   "version": "3.10.6"
  }
 },
 "nbformat": 4,
 "nbformat_minor": 2
}
