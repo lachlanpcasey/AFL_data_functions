{
 "cells": [
  {
   "cell_type": "code",
   "execution_count": 6,
   "metadata": {},
   "outputs": [],
   "source": [
    "from functions import func_initialise, fetch_fixture, fetch_player_stats"
   ]
  },
  {
   "cell_type": "code",
   "execution_count": 2,
   "metadata": {},
   "outputs": [
    {
     "name": "stdout",
     "output_type": "stream",
     "text": [
      "Fitzroy Package imported\n",
      "tidyverse package imported\n",
      "dplyr package imported\n"
     ]
    }
   ],
   "source": [
    "func_initialise()"
   ]
  },
  {
   "cell_type": "code",
   "execution_count": 3,
   "metadata": {},
   "outputs": [
    {
     "name": "stdout",
     "output_type": "stream",
     "text": [
      "i Fetching match ids\n",
      "v Fetching match ids ... done\n",
      "\n",
      "i Finding player stats for 207 matches.\n",
      "v Finding player stats for 207 matches. ... done\n",
      "\n"
     ]
    }
   ],
   "source": [
    "player_stats_2023_df = fetch_player_stats()"
   ]
  },
  {
   "cell_type": "code",
   "execution_count": 7,
   "metadata": {},
   "outputs": [
    {
     "data": {
      "text/plain": [
       "Index(['providerId', 'utcStartTime', 'status', 'compSeason.shortName',\n",
       "       'round.name', 'round.roundNumber', 'venue.name', 'home.team.name',\n",
       "       'home.team.club.name', 'away.team.name', 'away.team.club.name',\n",
       "       'player.jumperNumber', 'player.photoURL', 'player.player.position',\n",
       "       'player.player.player.playerId', 'player.player.player.captain',\n",
       "       'player.player.player.playerJumperNumber',\n",
       "       'player.player.player.givenName', 'player.player.player.surname',\n",
       "       'teamId', 'gamesPlayed', 'timeOnGroundPercentage', 'goals', 'behinds',\n",
       "       'superGoals', 'kicks', 'handballs', 'disposals', 'marks', 'bounces',\n",
       "       'tackles', 'contestedPossessions', 'uncontestedPossessions',\n",
       "       'totalPossessions', 'inside50s', 'marksInside50', 'contestedMarks',\n",
       "       'hitouts', 'onePercenters', 'disposalEfficiency', 'clangers',\n",
       "       'freesFor', 'freesAgainst', 'dreamTeamPoints', 'rebound50s',\n",
       "       'goalAssists', 'goalAccuracy', 'ratingPoints', 'ranking', 'lastUpdated',\n",
       "       'turnovers', 'intercepts', 'tacklesInside50', 'shotsAtGoal',\n",
       "       'goalEfficiency', 'shotEfficiency', 'interchangeCounts',\n",
       "       'scoreInvolvements', 'metresGained', 'clearances.centreClearances',\n",
       "       'clearances.stoppageClearances', 'clearances.totalClearances',\n",
       "       'extendedStats.effectiveKicks', 'extendedStats.kickEfficiency',\n",
       "       'extendedStats.kickToHandballRatio', 'extendedStats.effectiveDisposals',\n",
       "       'extendedStats.marksOnLead', 'extendedStats.interceptMarks',\n",
       "       'extendedStats.contestedPossessionRate',\n",
       "       'extendedStats.hitoutsToAdvantage', 'extendedStats.hitoutWinPercentage',\n",
       "       'extendedStats.hitoutToAdvantageRate', 'extendedStats.groundBallGets',\n",
       "       'extendedStats.f50GroundBallGets', 'extendedStats.scoreLaunches',\n",
       "       'extendedStats.pressureActs', 'extendedStats.defHalfPressureActs',\n",
       "       'extendedStats.spoils', 'extendedStats.ruckContests',\n",
       "       'extendedStats.contestDefOneOnOnes', 'extendedStats.contestDefLosses',\n",
       "       'extendedStats.contestDefLossPercentage',\n",
       "       'extendedStats.contestOffOneOnOnes', 'extendedStats.contestOffWins',\n",
       "       'extendedStats.contestOffWinsPercentage',\n",
       "       'extendedStats.centreBounceAttendances', 'extendedStats.kickins',\n",
       "       'extendedStats.kickinsPlayon', 'player.playerId', 'player.captain',\n",
       "       'player.playerJumperNumber', 'player.givenName', 'player.surname',\n",
       "       'teamStatus', 'extendedStats', 'team.name'],\n",
       "      dtype='object')"
      ]
     },
     "execution_count": 7,
     "metadata": {},
     "output_type": "execute_result"
    }
   ],
   "source": [
    "player_stats_2023_df.columns"
   ]
  },
  {
   "cell_type": "code",
   "execution_count": null,
   "metadata": {},
   "outputs": [],
   "source": []
  },
  {
   "cell_type": "code",
   "execution_count": null,
   "metadata": {},
   "outputs": [],
   "source": []
  }
 ],
 "metadata": {
  "kernelspec": {
   "display_name": "Python 3",
   "language": "python",
   "name": "python3"
  },
  "language_info": {
   "codemirror_mode": {
    "name": "ipython",
    "version": 3
   },
   "file_extension": ".py",
   "mimetype": "text/x-python",
   "name": "python",
   "nbconvert_exporter": "python",
   "pygments_lexer": "ipython3",
   "version": "3.10.6"
  },
  "orig_nbformat": 4
 },
 "nbformat": 4,
 "nbformat_minor": 2
}
