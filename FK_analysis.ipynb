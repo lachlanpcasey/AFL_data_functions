{
 "cells": [
  {
   "cell_type": "code",
   "execution_count": 1,
   "metadata": {},
   "outputs": [],
   "source": [
    "from functions import func_initialise, fetch_fixture, fetch_player_stats\n",
    "import pandas as pd\n",
    "from pandasql import sqldf"
   ]
  },
  {
   "cell_type": "code",
   "execution_count": 2,
   "metadata": {},
   "outputs": [
    {
     "name": "stdout",
     "output_type": "stream",
     "text": [
      "Fitzroy Package imported\n",
      "tidyverse package imported\n",
      "dplyr package imported\n"
     ]
    }
   ],
   "source": [
    "func_initialise()"
   ]
  },
  {
   "cell_type": "code",
   "execution_count": 3,
   "metadata": {},
   "outputs": [
    {
     "name": "stdout",
     "output_type": "stream",
     "text": [
      "i Fetching match ids\n",
      "v Fetching match ids ... done\n",
      "\n",
      "i Finding player stats for 207 matches.\n",
      "v Finding player stats for 207 matches. ... done\n",
      "\n"
     ]
    }
   ],
   "source": [
    "player_stats_2023_df = fetch_player_stats()"
   ]
  },
  {
   "cell_type": "code",
   "execution_count": 4,
   "metadata": {},
   "outputs": [
    {
     "ename": "PermissionError",
     "evalue": "[Errno 13] Permission denied: 'column_names.csv'",
     "output_type": "error",
     "traceback": [
      "\u001b[1;31m---------------------------------------------------------------------------\u001b[0m",
      "\u001b[1;31mPermissionError\u001b[0m                           Traceback (most recent call last)",
      "\u001b[1;32mc:\\Users\\Lachlan\\Desktop\\Coding Journey\\AFL Analysis\\fitzRoy Python Adapter\\AFL_data_functions\\testing.ipynb Cell 4\u001b[0m in \u001b[0;36m<cell line: 8>\u001b[1;34m()\u001b[0m\n\u001b[0;32m      <a href='vscode-notebook-cell:/c%3A/Users/Lachlan/Desktop/Coding%20Journey/AFL%20Analysis/fitzRoy%20Python%20Adapter/AFL_data_functions/testing.ipynb#X10sZmlsZQ%3D%3D?line=4'>5</a>\u001b[0m column_names_df \u001b[39m=\u001b[39m pd\u001b[39m.\u001b[39mDataFrame({\u001b[39m'\u001b[39m\u001b[39mColumn Names\u001b[39m\u001b[39m'\u001b[39m: column_names})\n\u001b[0;32m      <a href='vscode-notebook-cell:/c%3A/Users/Lachlan/Desktop/Coding%20Journey/AFL%20Analysis/fitzRoy%20Python%20Adapter/AFL_data_functions/testing.ipynb#X10sZmlsZQ%3D%3D?line=6'>7</a>\u001b[0m \u001b[39m# Save the DataFrame to a CSV file\u001b[39;00m\n\u001b[1;32m----> <a href='vscode-notebook-cell:/c%3A/Users/Lachlan/Desktop/Coding%20Journey/AFL%20Analysis/fitzRoy%20Python%20Adapter/AFL_data_functions/testing.ipynb#X10sZmlsZQ%3D%3D?line=7'>8</a>\u001b[0m column_names_df\u001b[39m.\u001b[39;49mto_csv(\u001b[39m'\u001b[39;49m\u001b[39mcolumn_names.csv\u001b[39;49m\u001b[39m'\u001b[39;49m, index\u001b[39m=\u001b[39;49m\u001b[39mFalse\u001b[39;49;00m)\n",
      "File \u001b[1;32mc:\\Users\\Lachlan\\AppData\\Local\\Programs\\Python\\Python310\\lib\\site-packages\\pandas\\core\\generic.py:3551\u001b[0m, in \u001b[0;36mNDFrame.to_csv\u001b[1;34m(self, path_or_buf, sep, na_rep, float_format, columns, header, index, index_label, mode, encoding, compression, quoting, quotechar, line_terminator, chunksize, date_format, doublequote, escapechar, decimal, errors, storage_options)\u001b[0m\n\u001b[0;32m   3540\u001b[0m df \u001b[39m=\u001b[39m \u001b[39mself\u001b[39m \u001b[39mif\u001b[39;00m \u001b[39misinstance\u001b[39m(\u001b[39mself\u001b[39m, ABCDataFrame) \u001b[39melse\u001b[39;00m \u001b[39mself\u001b[39m\u001b[39m.\u001b[39mto_frame()\n\u001b[0;32m   3542\u001b[0m formatter \u001b[39m=\u001b[39m DataFrameFormatter(\n\u001b[0;32m   3543\u001b[0m     frame\u001b[39m=\u001b[39mdf,\n\u001b[0;32m   3544\u001b[0m     header\u001b[39m=\u001b[39mheader,\n\u001b[1;32m   (...)\u001b[0m\n\u001b[0;32m   3548\u001b[0m     decimal\u001b[39m=\u001b[39mdecimal,\n\u001b[0;32m   3549\u001b[0m )\n\u001b[1;32m-> 3551\u001b[0m \u001b[39mreturn\u001b[39;00m DataFrameRenderer(formatter)\u001b[39m.\u001b[39;49mto_csv(\n\u001b[0;32m   3552\u001b[0m     path_or_buf,\n\u001b[0;32m   3553\u001b[0m     line_terminator\u001b[39m=\u001b[39;49mline_terminator,\n\u001b[0;32m   3554\u001b[0m     sep\u001b[39m=\u001b[39;49msep,\n\u001b[0;32m   3555\u001b[0m     encoding\u001b[39m=\u001b[39;49mencoding,\n\u001b[0;32m   3556\u001b[0m     errors\u001b[39m=\u001b[39;49merrors,\n\u001b[0;32m   3557\u001b[0m     compression\u001b[39m=\u001b[39;49mcompression,\n\u001b[0;32m   3558\u001b[0m     quoting\u001b[39m=\u001b[39;49mquoting,\n\u001b[0;32m   3559\u001b[0m     columns\u001b[39m=\u001b[39;49mcolumns,\n\u001b[0;32m   3560\u001b[0m     index_label\u001b[39m=\u001b[39;49mindex_label,\n\u001b[0;32m   3561\u001b[0m     mode\u001b[39m=\u001b[39;49mmode,\n\u001b[0;32m   3562\u001b[0m     chunksize\u001b[39m=\u001b[39;49mchunksize,\n\u001b[0;32m   3563\u001b[0m     quotechar\u001b[39m=\u001b[39;49mquotechar,\n\u001b[0;32m   3564\u001b[0m     date_format\u001b[39m=\u001b[39;49mdate_format,\n\u001b[0;32m   3565\u001b[0m     doublequote\u001b[39m=\u001b[39;49mdoublequote,\n\u001b[0;32m   3566\u001b[0m     escapechar\u001b[39m=\u001b[39;49mescapechar,\n\u001b[0;32m   3567\u001b[0m     storage_options\u001b[39m=\u001b[39;49mstorage_options,\n\u001b[0;32m   3568\u001b[0m )\n",
      "File \u001b[1;32mc:\\Users\\Lachlan\\AppData\\Local\\Programs\\Python\\Python310\\lib\\site-packages\\pandas\\io\\formats\\format.py:1180\u001b[0m, in \u001b[0;36mDataFrameRenderer.to_csv\u001b[1;34m(self, path_or_buf, encoding, sep, columns, index_label, mode, compression, quoting, quotechar, line_terminator, chunksize, date_format, doublequote, escapechar, errors, storage_options)\u001b[0m\n\u001b[0;32m   1159\u001b[0m     created_buffer \u001b[39m=\u001b[39m \u001b[39mFalse\u001b[39;00m\n\u001b[0;32m   1161\u001b[0m csv_formatter \u001b[39m=\u001b[39m CSVFormatter(\n\u001b[0;32m   1162\u001b[0m     path_or_buf\u001b[39m=\u001b[39mpath_or_buf,\n\u001b[0;32m   1163\u001b[0m     line_terminator\u001b[39m=\u001b[39mline_terminator,\n\u001b[1;32m   (...)\u001b[0m\n\u001b[0;32m   1178\u001b[0m     formatter\u001b[39m=\u001b[39m\u001b[39mself\u001b[39m\u001b[39m.\u001b[39mfmt,\n\u001b[0;32m   1179\u001b[0m )\n\u001b[1;32m-> 1180\u001b[0m csv_formatter\u001b[39m.\u001b[39;49msave()\n\u001b[0;32m   1182\u001b[0m \u001b[39mif\u001b[39;00m created_buffer:\n\u001b[0;32m   1183\u001b[0m     \u001b[39massert\u001b[39;00m \u001b[39misinstance\u001b[39m(path_or_buf, StringIO)\n",
      "File \u001b[1;32mc:\\Users\\Lachlan\\AppData\\Local\\Programs\\Python\\Python310\\lib\\site-packages\\pandas\\io\\formats\\csvs.py:241\u001b[0m, in \u001b[0;36mCSVFormatter.save\u001b[1;34m(self)\u001b[0m\n\u001b[0;32m    237\u001b[0m \u001b[39m\"\"\"\u001b[39;00m\n\u001b[0;32m    238\u001b[0m \u001b[39mCreate the writer & save.\u001b[39;00m\n\u001b[0;32m    239\u001b[0m \u001b[39m\"\"\"\u001b[39;00m\n\u001b[0;32m    240\u001b[0m \u001b[39m# apply compression and byte/text conversion\u001b[39;00m\n\u001b[1;32m--> 241\u001b[0m \u001b[39mwith\u001b[39;00m get_handle(\n\u001b[0;32m    242\u001b[0m     \u001b[39mself\u001b[39;49m\u001b[39m.\u001b[39;49mfilepath_or_buffer,\n\u001b[0;32m    243\u001b[0m     \u001b[39mself\u001b[39;49m\u001b[39m.\u001b[39;49mmode,\n\u001b[0;32m    244\u001b[0m     encoding\u001b[39m=\u001b[39;49m\u001b[39mself\u001b[39;49m\u001b[39m.\u001b[39;49mencoding,\n\u001b[0;32m    245\u001b[0m     errors\u001b[39m=\u001b[39;49m\u001b[39mself\u001b[39;49m\u001b[39m.\u001b[39;49merrors,\n\u001b[0;32m    246\u001b[0m     compression\u001b[39m=\u001b[39;49m\u001b[39mself\u001b[39;49m\u001b[39m.\u001b[39;49mcompression,\n\u001b[0;32m    247\u001b[0m     storage_options\u001b[39m=\u001b[39;49m\u001b[39mself\u001b[39;49m\u001b[39m.\u001b[39;49mstorage_options,\n\u001b[0;32m    248\u001b[0m ) \u001b[39mas\u001b[39;00m handles:\n\u001b[0;32m    249\u001b[0m \n\u001b[0;32m    250\u001b[0m     \u001b[39m# Note: self.encoding is irrelevant here\u001b[39;00m\n\u001b[0;32m    251\u001b[0m     \u001b[39mself\u001b[39m\u001b[39m.\u001b[39mwriter \u001b[39m=\u001b[39m csvlib\u001b[39m.\u001b[39mwriter(\n\u001b[0;32m    252\u001b[0m         handles\u001b[39m.\u001b[39mhandle,\n\u001b[0;32m    253\u001b[0m         lineterminator\u001b[39m=\u001b[39m\u001b[39mself\u001b[39m\u001b[39m.\u001b[39mline_terminator,\n\u001b[1;32m   (...)\u001b[0m\n\u001b[0;32m    258\u001b[0m         quotechar\u001b[39m=\u001b[39m\u001b[39mself\u001b[39m\u001b[39m.\u001b[39mquotechar,\n\u001b[0;32m    259\u001b[0m     )\n\u001b[0;32m    261\u001b[0m     \u001b[39mself\u001b[39m\u001b[39m.\u001b[39m_save()\n",
      "File \u001b[1;32mc:\\Users\\Lachlan\\AppData\\Local\\Programs\\Python\\Python310\\lib\\site-packages\\pandas\\io\\common.py:786\u001b[0m, in \u001b[0;36mget_handle\u001b[1;34m(path_or_buf, mode, encoding, compression, memory_map, is_text, errors, storage_options)\u001b[0m\n\u001b[0;32m    781\u001b[0m \u001b[39melif\u001b[39;00m \u001b[39misinstance\u001b[39m(handle, \u001b[39mstr\u001b[39m):\n\u001b[0;32m    782\u001b[0m     \u001b[39m# Check whether the filename is to be opened in binary mode.\u001b[39;00m\n\u001b[0;32m    783\u001b[0m     \u001b[39m# Binary mode does not support 'encoding' and 'newline'.\u001b[39;00m\n\u001b[0;32m    784\u001b[0m     \u001b[39mif\u001b[39;00m ioargs\u001b[39m.\u001b[39mencoding \u001b[39mand\u001b[39;00m \u001b[39m\"\u001b[39m\u001b[39mb\u001b[39m\u001b[39m\"\u001b[39m \u001b[39mnot\u001b[39;00m \u001b[39min\u001b[39;00m ioargs\u001b[39m.\u001b[39mmode:\n\u001b[0;32m    785\u001b[0m         \u001b[39m# Encoding\u001b[39;00m\n\u001b[1;32m--> 786\u001b[0m         handle \u001b[39m=\u001b[39m \u001b[39mopen\u001b[39;49m(\n\u001b[0;32m    787\u001b[0m             handle,\n\u001b[0;32m    788\u001b[0m             ioargs\u001b[39m.\u001b[39;49mmode,\n\u001b[0;32m    789\u001b[0m             encoding\u001b[39m=\u001b[39;49mioargs\u001b[39m.\u001b[39;49mencoding,\n\u001b[0;32m    790\u001b[0m             errors\u001b[39m=\u001b[39;49merrors,\n\u001b[0;32m    791\u001b[0m             newline\u001b[39m=\u001b[39;49m\u001b[39m\"\u001b[39;49m\u001b[39m\"\u001b[39;49m,\n\u001b[0;32m    792\u001b[0m         )\n\u001b[0;32m    793\u001b[0m     \u001b[39melse\u001b[39;00m:\n\u001b[0;32m    794\u001b[0m         \u001b[39m# Binary mode\u001b[39;00m\n\u001b[0;32m    795\u001b[0m         handle \u001b[39m=\u001b[39m \u001b[39mopen\u001b[39m(handle, ioargs\u001b[39m.\u001b[39mmode)\n",
      "\u001b[1;31mPermissionError\u001b[0m: [Errno 13] Permission denied: 'column_names.csv'"
     ]
    }
   ],
   "source": [
    "# Get the column names\n",
    "column_names = player_stats_2023_df.columns\n",
    "\n",
    "# Create a DataFrame with the column names\n",
    "column_names_df = pd.DataFrame({'Column Names': column_names})\n",
    "\n",
    "# Save the DataFrame to a CSV file\n",
    "column_names_df.to_csv('column_names.csv', index=False)"
   ]
  },
  {
   "cell_type": "code",
   "execution_count": 5,
   "metadata": {},
   "outputs": [
    {
     "name": "stdout",
     "output_type": "stream",
     "text": [
      "         team.name  round.roundNumber  FK_diff\n",
      "52     Collingwood                  2     19.0\n",
      "208       St Kilda                  7     14.0\n",
      "76        Essendon                 13     14.0\n",
      "58     Collingwood                  8     14.0\n",
      "214       St Kilda                 14     13.0\n",
      "..             ...                ...      ...\n",
      "174  Port Adelaide                  1    -13.0\n",
      "223   Sydney Swans                  8    -14.0\n",
      "49         Carlton                 13    -14.0\n",
      "180  Port Adelaide                  7    -14.0\n",
      "175  Port Adelaide                  2    -19.0\n",
      "\n",
      "[258 rows x 3 columns]\n"
     ]
    }
   ],
   "source": [
    "# Perform the aggregation and calculation\n",
    "aggregated_df_FK_round = player_stats_2023_df.groupby(['team.name', 'round.roundNumber']).agg({'freesFor': 'sum', 'freesAgainst': 'sum'}).reset_index()\n",
    "aggregated_df_FK_round['FK_diff'] = aggregated_df_FK_round['freesFor'] - aggregated_df_FK_round['freesAgainst']\n",
    "\n",
    "# Print the resulting DataFrame\n",
    "print(aggregated_df_FK_round[['team.name', 'round.roundNumber', 'FK_diff']].sort_values(ascending=False, by = 'FK_diff'))"
   ]
  },
  {
   "cell_type": "code",
   "execution_count": 6,
   "metadata": {},
   "outputs": [
    {
     "name": "stdout",
     "output_type": "stream",
     "text": [
      "            team.name  FK_diff\n",
      "2      Brisbane Lions     48.0\n",
      "15           St Kilda     42.0\n",
      "6           Fremantle     38.0\n",
      "3             Carlton     28.0\n",
      "4         Collingwood     19.0\n",
      "18   Western Bulldogs     10.0\n",
      "5            Essendon      8.0\n",
      "11          Melbourne      4.0\n",
      "17  West Coast Eagles      2.0\n",
      "0       NA_character_      0.0\n",
      "9     Gold Coast Suns     -4.0\n",
      "7          GWS Giants     -8.0\n",
      "16       Sydney Swans     -9.0\n",
      "1      Adelaide Crows    -14.0\n",
      "8        Geelong Cats    -16.0\n",
      "10           Hawthorn    -29.0\n",
      "13      Port Adelaide    -33.0\n",
      "14           Richmond    -34.0\n",
      "12    North Melbourne    -38.0\n"
     ]
    }
   ],
   "source": [
    "# Perform the aggregation and calculation\n",
    "aggregated_df_FK_total = player_stats_2023_df.groupby(['team.name']).agg({'freesFor': 'sum', 'freesAgainst': 'sum'}).reset_index()\n",
    "aggregated_df_FK_total['FK_diff'] = aggregated_df_FK_total['freesFor'] - aggregated_df_FK_total['freesAgainst']\n",
    "\n",
    "# Print the resulting DataFrame\n",
    "print(aggregated_df_FK_total[['team.name', 'FK_diff']].sort_values(ascending=False, by = 'FK_diff'))"
   ]
  },
  {
   "cell_type": "code",
   "execution_count": 14,
   "metadata": {},
   "outputs": [
    {
     "name": "stdout",
     "output_type": "stream",
     "text": [
      "            team.name  FK_diff  freesFor  freesAgainst\n",
      "5           Fremantle     29.0     153.0         124.0\n",
      "3         Collingwood     28.0     136.0         108.0\n",
      "14           St Kilda     26.0     129.0         103.0\n",
      "1      Brisbane Lions     16.0     132.0         116.0\n",
      "15       Sydney Swans     13.0     148.0         135.0\n",
      "0      Adelaide Crows      9.0     151.0         142.0\n",
      "2             Carlton      9.0     145.0         136.0\n",
      "16  West Coast Eagles      6.0     114.0         108.0\n",
      "8     Gold Coast Suns      5.0     118.0         113.0\n",
      "4            Essendon      2.0      91.0          89.0\n",
      "10          Melbourne      2.0     125.0         123.0\n",
      "9            Hawthorn      1.0     101.0         100.0\n",
      "6          GWS Giants     -1.0     119.0         120.0\n",
      "17   Western Bulldogs     -1.0     107.0         108.0\n",
      "7        Geelong Cats     -3.0     139.0         142.0\n",
      "12      Port Adelaide     -4.0     157.0         161.0\n",
      "11    North Melbourne    -12.0     123.0         135.0\n",
      "13           Richmond    -26.0     131.0         157.0\n"
     ]
    }
   ],
   "source": [
    "# Filter the player_stats_2023_df DataFrame\n",
    "filtered_df_home_FK_diff = player_stats_2023_df[player_stats_2023_df['team.name'] == player_stats_2023_df['home.team.name']]\n",
    "\n",
    "# Perform the aggregation and calculation\n",
    "aggregated_df_home_FK_total = filtered_df_home_FK_diff.groupby(['team.name']).agg({'freesFor': 'sum', 'freesAgainst': 'sum'}).reset_index()\n",
    "aggregated_df_home_FK_total['FK_diff'] = aggregated_df_home_FK_total['freesFor'] - aggregated_df_home_FK_total['freesAgainst']\n",
    "\n",
    "# Sort the DataFrame by FK_diff in descending order\n",
    "sorted_df = aggregated_df_FK_total.sort_values(by='FK_diff', ascending=False)\n",
    "\n",
    "# Print the resulting DataFrame\n",
    "print(sorted_df[['team.name', 'FK_diff', 'freesFor', 'freesAgainst']])"
   ]
  },
  {
   "cell_type": "code",
   "execution_count": 11,
   "metadata": {},
   "outputs": [
    {
     "name": "stdout",
     "output_type": "stream",
     "text": [
      "            team.name  freesFor  freesAgainst\n",
      "3             Carlton     284.0         256.0\n",
      "2      Brisbane Lions     279.0         231.0\n",
      "15           St Kilda     274.0         232.0\n",
      "6           Fremantle     273.0         235.0\n",
      "13      Port Adelaide     272.0         305.0\n",
      "16       Sydney Swans     268.0         277.0\n",
      "17  West Coast Eagles     264.0         262.0\n",
      "1      Adelaide Crows     264.0         278.0\n",
      "11          Melbourne     261.0         257.0\n",
      "4         Collingwood     254.0         235.0\n",
      "18   Western Bulldogs     250.0         240.0\n",
      "8        Geelong Cats     250.0         266.0\n",
      "12    North Melbourne     240.0         278.0\n",
      "9     Gold Coast Suns     237.0         241.0\n",
      "5            Essendon     231.0         223.0\n",
      "14           Richmond     228.0         262.0\n",
      "10           Hawthorn     208.0         237.0\n",
      "7          GWS Giants     206.0         214.0\n",
      "0       NA_character_       0.0           0.0\n"
     ]
    }
   ],
   "source": [
    "# Perform the aggregation and calculation\n",
    "aggregated_df_FK_total_sum = player_stats_2023_df.groupby(['team.name']).agg({'freesFor': 'sum', 'freesAgainst': 'sum'}).reset_index()\n",
    "\n",
    "# Print the resulting DataFrame\n",
    "print(aggregated_df_FK_total[['team.name', 'freesFor', 'freesAgainst']].sort_values(ascending=False, by = 'freesFor'))"
   ]
  }
 ],
 "metadata": {
  "kernelspec": {
   "display_name": "Python 3",
   "language": "python",
   "name": "python3"
  },
  "language_info": {
   "codemirror_mode": {
    "name": "ipython",
    "version": 3
   },
   "file_extension": ".py",
   "mimetype": "text/x-python",
   "name": "python",
   "nbconvert_exporter": "python",
   "pygments_lexer": "ipython3",
   "version": "3.10.6"
  },
  "orig_nbformat": 4
 },
 "nbformat": 4,
 "nbformat_minor": 2
}
