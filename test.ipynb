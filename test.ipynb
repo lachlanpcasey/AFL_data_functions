{
 "cells": [
  {
   "cell_type": "code",
   "execution_count": 1,
   "metadata": {},
   "outputs": [],
   "source": [
    "import pandas as pd\n",
    "from functions import fetch_fixture, func_initialise, fetch_player_stats"
   ]
  },
  {
   "cell_type": "code",
   "execution_count": 2,
   "metadata": {},
   "outputs": [
    {
     "name": "stdout",
     "output_type": "stream",
     "text": [
      "Fitzroy Package imported\n",
      "tidyverse package imported\n",
      "dplyr package imported\n"
     ]
    }
   ],
   "source": [
    "func_initialise()"
   ]
  },
  {
   "cell_type": "code",
   "execution_count": 3,
   "metadata": {},
   "outputs": [
    {
     "name": "stdout",
     "output_type": "stream",
     "text": [
      "i Fetching match ids\n",
      "v Fetching match ids ... done\n",
      "\n",
      "i Finding player stats for 9 matches.\n",
      "v Finding player stats for 9 matches. ... done\n",
      "\n"
     ]
    }
   ],
   "source": [
    "# Call the fetch_fixture function and store the result in the \"df\" variable\n",
    "df = fetch_player_stats(season=2023, round_number=3)"
   ]
  },
  {
   "cell_type": "code",
   "execution_count": 20,
   "metadata": {},
   "outputs": [
    {
     "name": "stdout",
     "output_type": "stream",
     "text": [
      "          providerId                  utcStartTime     status  \\\n",
      "355  CD_M20230140308  2023-04-02T05:20:00.000+0000  CONCLUDED   \n",
      "\n",
      "    compSeason.shortName round.name  round.roundNumber venue.name  \\\n",
      "355          Premiership    Round 3                  3        MCG   \n",
      "\n",
      "    home.team.name home.team.club.name away.team.name  ...  \\\n",
      "355      Melbourne           Melbourne   Sydney Swans  ...   \n",
      "\n",
      "    extendedStats.centreBounceAttendances  extendedStats.kickins  \\\n",
      "355                                   0.0                    3.0   \n",
      "\n",
      "    extendedStats.kickinsPlayon player.playerId player.captain  \\\n",
      "355                         3.0      CD_I295342          False   \n",
      "\n",
      "     player.playerJumperNumber  player.givenName player.surname teamStatus  \\\n",
      "355                         44              Jake          Lloyd       away   \n",
      "\n",
      "        team.name  \n",
      "355  Sydney Swans  \n",
      "\n",
      "[1 rows x 95 columns]\n"
     ]
    }
   ],
   "source": [
    "print(df[(df['player.surname'] == 'Lloyd') & (df['player.givenName'] == 'Jake')])"
   ]
  }
 ],
 "metadata": {
  "kernelspec": {
   "display_name": "Python 3",
   "language": "python",
   "name": "python3"
  },
  "language_info": {
   "codemirror_mode": {
    "name": "ipython",
    "version": 3
   },
   "file_extension": ".py",
   "mimetype": "text/x-python",
   "name": "python",
   "nbconvert_exporter": "python",
   "pygments_lexer": "ipython3",
   "version": "3.10.6"
  },
  "orig_nbformat": 4
 },
 "nbformat": 4,
 "nbformat_minor": 2
}
