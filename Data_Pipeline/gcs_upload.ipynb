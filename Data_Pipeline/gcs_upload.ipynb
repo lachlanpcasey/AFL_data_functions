{
 "cells": [
  {
   "cell_type": "code",
   "execution_count": 16,
   "metadata": {},
   "outputs": [],
   "source": [
    "import os\n",
    "from google.cloud import storage\n",
    "from Functions.get_data_functions import func_initialise, fetch_player_stats\n",
    "from config import service_account_file, gcs_bucket_name\n",
    "import time"
   ]
  },
  {
   "cell_type": "code",
   "execution_count": 17,
   "metadata": {},
   "outputs": [
    {
     "name": "stdout",
     "output_type": "stream",
     "text": [
      "Fitzroy Package imported\n",
      "tidyverse package imported\n",
      "dplyr package imported\n"
     ]
    }
   ],
   "source": [
    "func_initialise()"
   ]
  },
  {
   "cell_type": "code",
   "execution_count": 18,
   "metadata": {},
   "outputs": [],
   "source": [
    "def upload_dataframe_to_gcs(service_account_file, bucket_name, file_name, dataframe):\n",
    "    # Set Google Application Credentials environment variable\n",
    "    os.environ['GOOGLE_APPLICATION_CREDENTIALS'] = service_account_file\n",
    "\n",
    "    # Convert DataFrame to CSV string\n",
    "    csv_data = dataframe.to_csv(index=False)\n",
    "\n",
    "    # Initialize the GCS client\n",
    "    client = storage.Client()\n",
    "\n",
    "    # Get the GCS bucket\n",
    "    bucket = client.get_bucket(bucket_name)\n",
    "\n",
    "    # Upload the CSV data to the bucket\n",
    "    blob = bucket.blob(file_name)\n",
    "    blob.upload_from_string(csv_data, content_type='text/csv')\n",
    "\n",
    "    print(f\"DataFrame uploaded as CSV to '{file_name}' in '{bucket_name}' bucket successfully.\")"
   ]
  },
  {
   "cell_type": "code",
   "execution_count": 29,
   "metadata": {},
   "outputs": [],
   "source": [
    "def player_data_upload(year: int):\n",
    "    df = fetch_player_stats(season = year, source = 'afltables')\n",
    "    df['year'] = year\n",
    "    df['Season'].astype('float')\n",
    "    df['Round'].astype('int')\n",
    "    df['Local.start.time'].astype('int')\n",
    "    df['Attendance'].astype('float')\n",
    "    df['ID'].astype('int')\n",
    "    df['Jumper.No.'].astype('str')\n",
    "    # Drop the 'Date' column from the DataFrame\n",
    "    df = df.drop('Date', axis=1)\n",
    "    upload_dataframe_to_gcs(service_account_file, gcs_bucket_name, f'player_stats/player_stats_{year}', df)"
   ]
  },
  {
   "cell_type": "code",
   "execution_count": 30,
   "metadata": {},
   "outputs": [
    {
     "name": "stdout",
     "output_type": "stream",
     "text": [
      "i Looking for data from 2023-01-01 to 2023-07-12\n"
     ]
    },
    {
     "name": "stdout",
     "output_type": "stream",
     "text": [
      "i fetching cached data from <github.com>\n",
      "v fetching cached data from <github.com> ... done\n",
      "\n"
     ]
    },
    {
     "name": "stderr",
     "output_type": "stream",
     "text": [
      "R[write to console]: Finished getting afltables data\n",
      "\n"
     ]
    },
    {
     "name": "stdout",
     "output_type": "stream",
     "text": [
      "DataFrame uploaded as CSV to 'player_stats/player_stats_2023' in 'afl-data' bucket successfully.\n"
     ]
    }
   ],
   "source": [
    "i = 2023\n",
    "while i>= 2023:\n",
    "    player_data_upload( year = i)\n",
    "    i-=1\n",
    "    time.sleep(1)"
   ]
  }
 ],
 "metadata": {
  "kernelspec": {
   "display_name": "Python 3",
   "language": "python",
   "name": "python3"
  },
  "language_info": {
   "codemirror_mode": {
    "name": "ipython",
    "version": 3
   },
   "file_extension": ".py",
   "mimetype": "text/x-python",
   "name": "python",
   "nbconvert_exporter": "python",
   "pygments_lexer": "ipython3",
   "version": "3.10.6"
  },
  "orig_nbformat": 4
 },
 "nbformat": 4,
 "nbformat_minor": 2
}
