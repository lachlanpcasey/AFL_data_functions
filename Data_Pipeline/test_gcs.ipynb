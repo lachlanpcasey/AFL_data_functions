{
 "cells": [
  {
   "cell_type": "code",
   "execution_count": 11,
   "metadata": {},
   "outputs": [],
   "source": [
    "import os\n",
    "from google.cloud import storage\n",
    "from Functions.get_data_functions import func_initialise, fetch_player_stats\n",
    "from config import service_account_file, gcs_bucket_name"
   ]
  },
  {
   "cell_type": "code",
   "execution_count": 2,
   "metadata": {},
   "outputs": [],
   "source": [
    "def upload_dataframe_to_gcs(service_account_file, bucket_name, file_name, dataframe):\n",
    "    # Set Google Application Credentials environment variable\n",
    "    os.environ['GOOGLE_APPLICATION_CREDENTIALS'] = service_account_file\n",
    "\n",
    "    # Convert DataFrame to CSV string\n",
    "    csv_data = dataframe.to_csv(index=False)\n",
    "\n",
    "    # Initialize the GCS client\n",
    "    client = storage.Client()\n",
    "\n",
    "    # Get the GCS bucket\n",
    "    bucket = client.get_bucket(bucket_name)\n",
    "\n",
    "    # Upload the CSV data to the bucket\n",
    "    blob = bucket.blob(file_name)\n",
    "    blob.upload_from_string(csv_data, content_type='text/csv')\n",
    "\n",
    "    print(f\"DataFrame uploaded as CSV to '{file_name}' in '{bucket_name}' bucket successfully.\")"
   ]
  },
  {
   "cell_type": "code",
   "execution_count": 4,
   "metadata": {},
   "outputs": [
    {
     "name": "stdout",
     "output_type": "stream",
     "text": [
      "Fitzroy Package imported\n",
      "tidyverse package imported\n",
      "dplyr package imported\n"
     ]
    }
   ],
   "source": [
    "func_initialise()"
   ]
  },
  {
   "cell_type": "code",
   "execution_count": 5,
   "metadata": {},
   "outputs": [
    {
     "name": "stdout",
     "output_type": "stream",
     "text": [
      "i Fetching match ids\n",
      "v Fetching match ids ... done\n",
      "\n",
      "i Finding player stats for 207 matches.\n",
      "v Finding player stats for 207 matches. ... done\n",
      "\n"
     ]
    }
   ],
   "source": [
    "df = fetch_player_stats()"
   ]
  },
  {
   "cell_type": "code",
   "execution_count": 12,
   "metadata": {},
   "outputs": [
    {
     "name": "stdout",
     "output_type": "stream",
     "text": [
      "DataFrame uploaded as CSV to 'player_stats/player_stats_2023' in 'afl-data' bucket successfully.\n"
     ]
    }
   ],
   "source": [
    "upload_dataframe_to_gcs(service_account_file, gcs_bucket_name, 'player_stats/player_stats_2023', df)"
   ]
  }
 ],
 "metadata": {
  "kernelspec": {
   "display_name": "Python 3",
   "language": "python",
   "name": "python3"
  },
  "language_info": {
   "codemirror_mode": {
    "name": "ipython",
    "version": 3
   },
   "file_extension": ".py",
   "mimetype": "text/x-python",
   "name": "python",
   "nbconvert_exporter": "python",
   "pygments_lexer": "ipython3",
   "version": "3.10.6"
  },
  "orig_nbformat": 4
 },
 "nbformat": 4,
 "nbformat_minor": 2
}
