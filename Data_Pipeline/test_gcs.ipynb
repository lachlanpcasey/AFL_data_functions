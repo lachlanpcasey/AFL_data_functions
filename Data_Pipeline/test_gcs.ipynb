{
 "cells": [
  {
   "cell_type": "code",
   "execution_count": 2,
   "metadata": {},
   "outputs": [],
   "source": [
    "import os\n",
    "from google.cloud import storage"
   ]
  },
  {
   "cell_type": "code",
   "execution_count": 3,
   "metadata": {},
   "outputs": [],
   "source": [
    "def upload_file_to_gcs(service_account_file, filename, bucket_name):\n",
    "    # Set Google Application Credentials environment variable\n",
    "    os.environ['GOOGLE_APPLICATION_CREDENTIALS'] = service_account_file\n",
    "\n",
    "    # Initialize the GCS client\n",
    "    client = storage.Client()\n",
    "\n",
    "    # Get the GCS bucket\n",
    "    bucket = client.get_bucket(bucket_name)\n",
    "\n",
    "    # Upload the file to the bucket\n",
    "    blob = bucket.blob(filename)\n",
    "    blob.upload_from_filename(filename)\n",
    "\n",
    "    print(f\"File '{filename}' uploaded to '{bucket_name}' bucket successfully.\")"
   ]
  },
  {
   "cell_type": "code",
   "execution_count": 4,
   "metadata": {},
   "outputs": [
    {
     "name": "stdout",
     "output_type": "stream",
     "text": [
      "File 'test.txt' uploaded to 'afl-data' bucket successfully.\n"
     ]
    }
   ],
   "source": [
    "# Provide the path to your service account JSON file\n",
    "service_account_file = 'service_account_json_afl_pipeline.json'\n",
    "\n",
    "# Provide the filename and GCS bucket name\n",
    "filename = 'test.txt'\n",
    "bucket_name = 'afl-data'\n",
    "\n",
    "# Upload the file to Google Cloud Storage\n",
    "upload_file_to_gcs(service_account_file, filename, bucket_name)"
   ]
  }
 ],
 "metadata": {
  "kernelspec": {
   "display_name": "Python 3",
   "language": "python",
   "name": "python3"
  },
  "language_info": {
   "codemirror_mode": {
    "name": "ipython",
    "version": 3
   },
   "file_extension": ".py",
   "mimetype": "text/x-python",
   "name": "python",
   "nbconvert_exporter": "python",
   "pygments_lexer": "ipython3",
   "version": "3.10.6"
  },
  "orig_nbformat": 4
 },
 "nbformat": 4,
 "nbformat_minor": 2
}
