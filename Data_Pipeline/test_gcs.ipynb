{
 "cells": [
  {
   "cell_type": "code",
   "execution_count": 1,
   "metadata": {},
   "outputs": [],
   "source": [
    "import os\n",
    "from google.cloud import storage\n",
    "from Functions.get_data_functions import func_initialise, fetch_player_stats\n",
    "from config import service_account_file, gcs_bucket_name"
   ]
  },
  {
   "cell_type": "code",
   "execution_count": 2,
   "metadata": {},
   "outputs": [],
   "source": [
    "def upload_dataframe_to_gcs(service_account_file, bucket_name, file_name, dataframe):\n",
    "    # Set Google Application Credentials environment variable\n",
    "    os.environ['GOOGLE_APPLICATION_CREDENTIALS'] = service_account_file\n",
    "\n",
    "    # Convert DataFrame to CSV string\n",
    "    csv_data = dataframe.to_csv(index=False)\n",
    "\n",
    "    # Initialize the GCS client\n",
    "    client = storage.Client()\n",
    "\n",
    "    # Get the GCS bucket\n",
    "    bucket = client.get_bucket(bucket_name)\n",
    "\n",
    "    # Upload the CSV data to the bucket\n",
    "    blob = bucket.blob(file_name)\n",
    "    blob.upload_from_string(csv_data, content_type='text/csv')\n",
    "\n",
    "    print(f\"DataFrame uploaded as CSV to '{file_name}' in '{bucket_name}' bucket successfully.\")"
   ]
  },
  {
   "cell_type": "code",
   "execution_count": 4,
   "metadata": {},
   "outputs": [
    {
     "name": "stdout",
     "output_type": "stream",
     "text": [
      "Fitzroy Package imported\n",
      "tidyverse package imported\n",
      "dplyr package imported\n"
     ]
    }
   ],
   "source": [
    "func_initialise()"
   ]
  },
  {
   "cell_type": "code",
   "execution_count": 5,
   "metadata": {},
   "outputs": [
    {
     "name": "stdout",
     "output_type": "stream",
     "text": [
      "i Fetching match ids\n",
      "v Fetching match ids ... done\n",
      "\n",
      "i Finding player stats for 207 matches.\n",
      "v Finding player stats for 207 matches. ... done\n",
      "\n"
     ]
    }
   ],
   "source": [
    "df = fetch_player_stats()"
   ]
  },
  {
   "cell_type": "code",
   "execution_count": 9,
   "metadata": {},
   "outputs": [
    {
     "ename": "NotFound",
     "evalue": "404 GET https://storage.googleapis.com/storage/v1/b/afl-data/player_stats?projection=noAcl&prettyPrint=false: Not Found",
     "output_type": "error",
     "traceback": [
      "\u001b[1;31m---------------------------------------------------------------------------\u001b[0m",
      "\u001b[1;31mNotFound\u001b[0m                                  Traceback (most recent call last)",
      "\u001b[1;32mc:\\Users\\Lachlan\\Desktop\\Coding Journey\\AFL Analysis\\fitzRoy Python Adapter\\AFL_data_functions\\Data_Pipeline\\test_gcs.ipynb Cell 6\u001b[0m in \u001b[0;36m<cell line: 1>\u001b[1;34m()\u001b[0m\n\u001b[1;32m----> <a href='vscode-notebook-cell:/c%3A/Users/Lachlan/Desktop/Coding%20Journey/AFL%20Analysis/fitzRoy%20Python%20Adapter/AFL_data_functions/Data_Pipeline/test_gcs.ipynb#X10sZmlsZQ%3D%3D?line=0'>1</a>\u001b[0m upload_dataframe_to_gcs(service_account_file, bucket_name, \u001b[39m'\u001b[39;49m\u001b[39mplayer_stats_2023\u001b[39;49m\u001b[39m'\u001b[39;49m, df)\n",
      "\u001b[1;32mc:\\Users\\Lachlan\\Desktop\\Coding Journey\\AFL Analysis\\fitzRoy Python Adapter\\AFL_data_functions\\Data_Pipeline\\test_gcs.ipynb Cell 6\u001b[0m in \u001b[0;36mupload_dataframe_to_gcs\u001b[1;34m(service_account_file, bucket_name, file_name, dataframe)\u001b[0m\n\u001b[0;32m      <a href='vscode-notebook-cell:/c%3A/Users/Lachlan/Desktop/Coding%20Journey/AFL%20Analysis/fitzRoy%20Python%20Adapter/AFL_data_functions/Data_Pipeline/test_gcs.ipynb#X10sZmlsZQ%3D%3D?line=8'>9</a>\u001b[0m client \u001b[39m=\u001b[39m storage\u001b[39m.\u001b[39mClient()\n\u001b[0;32m     <a href='vscode-notebook-cell:/c%3A/Users/Lachlan/Desktop/Coding%20Journey/AFL%20Analysis/fitzRoy%20Python%20Adapter/AFL_data_functions/Data_Pipeline/test_gcs.ipynb#X10sZmlsZQ%3D%3D?line=10'>11</a>\u001b[0m \u001b[39m# Get the GCS bucket\u001b[39;00m\n\u001b[1;32m---> <a href='vscode-notebook-cell:/c%3A/Users/Lachlan/Desktop/Coding%20Journey/AFL%20Analysis/fitzRoy%20Python%20Adapter/AFL_data_functions/Data_Pipeline/test_gcs.ipynb#X10sZmlsZQ%3D%3D?line=11'>12</a>\u001b[0m bucket \u001b[39m=\u001b[39m client\u001b[39m.\u001b[39;49mget_bucket(bucket_name)\n\u001b[0;32m     <a href='vscode-notebook-cell:/c%3A/Users/Lachlan/Desktop/Coding%20Journey/AFL%20Analysis/fitzRoy%20Python%20Adapter/AFL_data_functions/Data_Pipeline/test_gcs.ipynb#X10sZmlsZQ%3D%3D?line=13'>14</a>\u001b[0m \u001b[39m# Upload the CSV data to the bucket\u001b[39;00m\n\u001b[0;32m     <a href='vscode-notebook-cell:/c%3A/Users/Lachlan/Desktop/Coding%20Journey/AFL%20Analysis/fitzRoy%20Python%20Adapter/AFL_data_functions/Data_Pipeline/test_gcs.ipynb#X10sZmlsZQ%3D%3D?line=14'>15</a>\u001b[0m blob \u001b[39m=\u001b[39m bucket\u001b[39m.\u001b[39mblob(file_name)\n",
      "File \u001b[1;32mc:\\Users\\Lachlan\\AppData\\Local\\Programs\\Python\\Python310\\lib\\site-packages\\google\\cloud\\storage\\client.py:773\u001b[0m, in \u001b[0;36mClient.get_bucket\u001b[1;34m(self, bucket_or_name, timeout, if_metageneration_match, if_metageneration_not_match, retry)\u001b[0m\n\u001b[0;32m    725\u001b[0m \u001b[39m\"\"\"Retrieve a bucket via a GET request.\u001b[39;00m\n\u001b[0;32m    726\u001b[0m \n\u001b[0;32m    727\u001b[0m \u001b[39mSee [API reference docs](https://cloud.google.com/storage/docs/json_api/v1/buckets/get) and a [code sample](https://cloud.google.com/storage/docs/samples/storage-get-bucket-metadata#storage_get_bucket_metadata-python).\u001b[39;00m\n\u001b[1;32m   (...)\u001b[0m\n\u001b[0;32m    770\u001b[0m \u001b[39m        If the bucket is not found.\u001b[39;00m\n\u001b[0;32m    771\u001b[0m \u001b[39m\"\"\"\u001b[39;00m\n\u001b[0;32m    772\u001b[0m bucket \u001b[39m=\u001b[39m \u001b[39mself\u001b[39m\u001b[39m.\u001b[39m_bucket_arg_to_bucket(bucket_or_name)\n\u001b[1;32m--> 773\u001b[0m bucket\u001b[39m.\u001b[39;49mreload(\n\u001b[0;32m    774\u001b[0m     client\u001b[39m=\u001b[39;49m\u001b[39mself\u001b[39;49m,\n\u001b[0;32m    775\u001b[0m     timeout\u001b[39m=\u001b[39;49mtimeout,\n\u001b[0;32m    776\u001b[0m     if_metageneration_match\u001b[39m=\u001b[39;49mif_metageneration_match,\n\u001b[0;32m    777\u001b[0m     if_metageneration_not_match\u001b[39m=\u001b[39;49mif_metageneration_not_match,\n\u001b[0;32m    778\u001b[0m     retry\u001b[39m=\u001b[39;49mretry,\n\u001b[0;32m    779\u001b[0m )\n\u001b[0;32m    780\u001b[0m \u001b[39mreturn\u001b[39;00m bucket\n",
      "File \u001b[1;32mc:\\Users\\Lachlan\\AppData\\Local\\Programs\\Python\\Python310\\lib\\site-packages\\google\\cloud\\storage\\bucket.py:1077\u001b[0m, in \u001b[0;36mBucket.reload\u001b[1;34m(self, client, projection, timeout, if_etag_match, if_etag_not_match, if_metageneration_match, if_metageneration_not_match, retry)\u001b[0m\n\u001b[0;32m   1027\u001b[0m \u001b[39mdef\u001b[39;00m \u001b[39mreload\u001b[39m(\n\u001b[0;32m   1028\u001b[0m     \u001b[39mself\u001b[39m,\n\u001b[0;32m   1029\u001b[0m     client\u001b[39m=\u001b[39m\u001b[39mNone\u001b[39;00m,\n\u001b[1;32m   (...)\u001b[0m\n\u001b[0;32m   1036\u001b[0m     retry\u001b[39m=\u001b[39mDEFAULT_RETRY,\n\u001b[0;32m   1037\u001b[0m ):\n\u001b[0;32m   1038\u001b[0m     \u001b[39m\"\"\"Reload properties from Cloud Storage.\u001b[39;00m\n\u001b[0;32m   1039\u001b[0m \n\u001b[0;32m   1040\u001b[0m \u001b[39m    If :attr:`user_project` is set, bills the API request to that project.\u001b[39;00m\n\u001b[1;32m   (...)\u001b[0m\n\u001b[0;32m   1075\u001b[0m \u001b[39m        (Optional) How to retry the RPC. See: :ref:`configuring_retries`\u001b[39;00m\n\u001b[0;32m   1076\u001b[0m \u001b[39m    \"\"\"\u001b[39;00m\n\u001b[1;32m-> 1077\u001b[0m     \u001b[39msuper\u001b[39;49m(Bucket, \u001b[39mself\u001b[39;49m)\u001b[39m.\u001b[39;49mreload(\n\u001b[0;32m   1078\u001b[0m         client\u001b[39m=\u001b[39;49mclient,\n\u001b[0;32m   1079\u001b[0m         projection\u001b[39m=\u001b[39;49mprojection,\n\u001b[0;32m   1080\u001b[0m         timeout\u001b[39m=\u001b[39;49mtimeout,\n\u001b[0;32m   1081\u001b[0m         if_etag_match\u001b[39m=\u001b[39;49mif_etag_match,\n\u001b[0;32m   1082\u001b[0m         if_etag_not_match\u001b[39m=\u001b[39;49mif_etag_not_match,\n\u001b[0;32m   1083\u001b[0m         if_metageneration_match\u001b[39m=\u001b[39;49mif_metageneration_match,\n\u001b[0;32m   1084\u001b[0m         if_metageneration_not_match\u001b[39m=\u001b[39;49mif_metageneration_not_match,\n\u001b[0;32m   1085\u001b[0m         retry\u001b[39m=\u001b[39;49mretry,\n\u001b[0;32m   1086\u001b[0m     )\n",
      "File \u001b[1;32mc:\\Users\\Lachlan\\AppData\\Local\\Programs\\Python\\Python310\\lib\\site-packages\\google\\cloud\\storage\\_helpers.py:246\u001b[0m, in \u001b[0;36m_PropertyMixin.reload\u001b[1;34m(self, client, projection, if_etag_match, if_etag_not_match, if_generation_match, if_generation_not_match, if_metageneration_match, if_metageneration_not_match, timeout, retry)\u001b[0m\n\u001b[0;32m    242\u001b[0m headers \u001b[39m=\u001b[39m \u001b[39mself\u001b[39m\u001b[39m.\u001b[39m_encryption_headers()\n\u001b[0;32m    243\u001b[0m _add_etag_match_headers(\n\u001b[0;32m    244\u001b[0m     headers, if_etag_match\u001b[39m=\u001b[39mif_etag_match, if_etag_not_match\u001b[39m=\u001b[39mif_etag_not_match\n\u001b[0;32m    245\u001b[0m )\n\u001b[1;32m--> 246\u001b[0m api_response \u001b[39m=\u001b[39m client\u001b[39m.\u001b[39;49m_get_resource(\n\u001b[0;32m    247\u001b[0m     \u001b[39mself\u001b[39;49m\u001b[39m.\u001b[39;49mpath,\n\u001b[0;32m    248\u001b[0m     query_params\u001b[39m=\u001b[39;49mquery_params,\n\u001b[0;32m    249\u001b[0m     headers\u001b[39m=\u001b[39;49mheaders,\n\u001b[0;32m    250\u001b[0m     timeout\u001b[39m=\u001b[39;49mtimeout,\n\u001b[0;32m    251\u001b[0m     retry\u001b[39m=\u001b[39;49mretry,\n\u001b[0;32m    252\u001b[0m     _target_object\u001b[39m=\u001b[39;49m\u001b[39mself\u001b[39;49m,\n\u001b[0;32m    253\u001b[0m )\n\u001b[0;32m    254\u001b[0m \u001b[39mself\u001b[39m\u001b[39m.\u001b[39m_set_properties(api_response)\n",
      "File \u001b[1;32mc:\\Users\\Lachlan\\AppData\\Local\\Programs\\Python\\Python310\\lib\\site-packages\\google\\cloud\\storage\\client.py:378\u001b[0m, in \u001b[0;36mClient._get_resource\u001b[1;34m(self, path, query_params, headers, timeout, retry, _target_object)\u001b[0m\n\u001b[0;32m    322\u001b[0m \u001b[39mdef\u001b[39;00m \u001b[39m_get_resource\u001b[39m(\n\u001b[0;32m    323\u001b[0m     \u001b[39mself\u001b[39m,\n\u001b[0;32m    324\u001b[0m     path,\n\u001b[1;32m   (...)\u001b[0m\n\u001b[0;32m    329\u001b[0m     _target_object\u001b[39m=\u001b[39m\u001b[39mNone\u001b[39;00m,\n\u001b[0;32m    330\u001b[0m ):\n\u001b[0;32m    331\u001b[0m     \u001b[39m\"\"\"Helper for bucket / blob methods making API 'GET' calls.\u001b[39;00m\n\u001b[0;32m    332\u001b[0m \n\u001b[0;32m    333\u001b[0m \u001b[39m    Args:\u001b[39;00m\n\u001b[1;32m   (...)\u001b[0m\n\u001b[0;32m    376\u001b[0m \u001b[39m            If the bucket is not found.\u001b[39;00m\n\u001b[0;32m    377\u001b[0m \u001b[39m    \"\"\"\u001b[39;00m\n\u001b[1;32m--> 378\u001b[0m     \u001b[39mreturn\u001b[39;00m \u001b[39mself\u001b[39;49m\u001b[39m.\u001b[39;49m_connection\u001b[39m.\u001b[39;49mapi_request(\n\u001b[0;32m    379\u001b[0m         method\u001b[39m=\u001b[39;49m\u001b[39m\"\u001b[39;49m\u001b[39mGET\u001b[39;49m\u001b[39m\"\u001b[39;49m,\n\u001b[0;32m    380\u001b[0m         path\u001b[39m=\u001b[39;49mpath,\n\u001b[0;32m    381\u001b[0m         query_params\u001b[39m=\u001b[39;49mquery_params,\n\u001b[0;32m    382\u001b[0m         headers\u001b[39m=\u001b[39;49mheaders,\n\u001b[0;32m    383\u001b[0m         timeout\u001b[39m=\u001b[39;49mtimeout,\n\u001b[0;32m    384\u001b[0m         retry\u001b[39m=\u001b[39;49mretry,\n\u001b[0;32m    385\u001b[0m         _target_object\u001b[39m=\u001b[39;49m_target_object,\n\u001b[0;32m    386\u001b[0m     )\n",
      "File \u001b[1;32mc:\\Users\\Lachlan\\AppData\\Local\\Programs\\Python\\Python310\\lib\\site-packages\\google\\cloud\\storage\\_http.py:72\u001b[0m, in \u001b[0;36mConnection.api_request\u001b[1;34m(self, *args, **kwargs)\u001b[0m\n\u001b[0;32m     70\u001b[0m     \u001b[39mif\u001b[39;00m retry:\n\u001b[0;32m     71\u001b[0m         call \u001b[39m=\u001b[39m retry(call)\n\u001b[1;32m---> 72\u001b[0m \u001b[39mreturn\u001b[39;00m call()\n",
      "File \u001b[1;32mc:\\Users\\Lachlan\\AppData\\Local\\Programs\\Python\\Python310\\lib\\site-packages\\google\\api_core\\retry.py:349\u001b[0m, in \u001b[0;36mRetry.__call__.<locals>.retry_wrapped_func\u001b[1;34m(*args, **kwargs)\u001b[0m\n\u001b[0;32m    345\u001b[0m target \u001b[39m=\u001b[39m functools\u001b[39m.\u001b[39mpartial(func, \u001b[39m*\u001b[39margs, \u001b[39m*\u001b[39m\u001b[39m*\u001b[39mkwargs)\n\u001b[0;32m    346\u001b[0m sleep_generator \u001b[39m=\u001b[39m exponential_sleep_generator(\n\u001b[0;32m    347\u001b[0m     \u001b[39mself\u001b[39m\u001b[39m.\u001b[39m_initial, \u001b[39mself\u001b[39m\u001b[39m.\u001b[39m_maximum, multiplier\u001b[39m=\u001b[39m\u001b[39mself\u001b[39m\u001b[39m.\u001b[39m_multiplier\n\u001b[0;32m    348\u001b[0m )\n\u001b[1;32m--> 349\u001b[0m \u001b[39mreturn\u001b[39;00m retry_target(\n\u001b[0;32m    350\u001b[0m     target,\n\u001b[0;32m    351\u001b[0m     \u001b[39mself\u001b[39;49m\u001b[39m.\u001b[39;49m_predicate,\n\u001b[0;32m    352\u001b[0m     sleep_generator,\n\u001b[0;32m    353\u001b[0m     \u001b[39mself\u001b[39;49m\u001b[39m.\u001b[39;49m_timeout,\n\u001b[0;32m    354\u001b[0m     on_error\u001b[39m=\u001b[39;49mon_error,\n\u001b[0;32m    355\u001b[0m )\n",
      "File \u001b[1;32mc:\\Users\\Lachlan\\AppData\\Local\\Programs\\Python\\Python310\\lib\\site-packages\\google\\api_core\\retry.py:191\u001b[0m, in \u001b[0;36mretry_target\u001b[1;34m(target, predicate, sleep_generator, timeout, on_error, **kwargs)\u001b[0m\n\u001b[0;32m    189\u001b[0m \u001b[39mfor\u001b[39;00m sleep \u001b[39min\u001b[39;00m sleep_generator:\n\u001b[0;32m    190\u001b[0m     \u001b[39mtry\u001b[39;00m:\n\u001b[1;32m--> 191\u001b[0m         \u001b[39mreturn\u001b[39;00m target()\n\u001b[0;32m    193\u001b[0m     \u001b[39m# pylint: disable=broad-except\u001b[39;00m\n\u001b[0;32m    194\u001b[0m     \u001b[39m# This function explicitly must deal with broad exceptions.\u001b[39;00m\n\u001b[0;32m    195\u001b[0m     \u001b[39mexcept\u001b[39;00m \u001b[39mException\u001b[39;00m \u001b[39mas\u001b[39;00m exc:\n",
      "File \u001b[1;32mc:\\Users\\Lachlan\\AppData\\Local\\Programs\\Python\\Python310\\lib\\site-packages\\google\\cloud\\_http\\__init__.py:494\u001b[0m, in \u001b[0;36mJSONConnection.api_request\u001b[1;34m(self, method, path, query_params, data, content_type, headers, api_base_url, api_version, expect_json, _target_object, timeout, extra_api_info)\u001b[0m\n\u001b[0;32m    482\u001b[0m response \u001b[39m=\u001b[39m \u001b[39mself\u001b[39m\u001b[39m.\u001b[39m_make_request(\n\u001b[0;32m    483\u001b[0m     method\u001b[39m=\u001b[39mmethod,\n\u001b[0;32m    484\u001b[0m     url\u001b[39m=\u001b[39murl,\n\u001b[1;32m   (...)\u001b[0m\n\u001b[0;32m    490\u001b[0m     extra_api_info\u001b[39m=\u001b[39mextra_api_info,\n\u001b[0;32m    491\u001b[0m )\n\u001b[0;32m    493\u001b[0m \u001b[39mif\u001b[39;00m \u001b[39mnot\u001b[39;00m \u001b[39m200\u001b[39m \u001b[39m<\u001b[39m\u001b[39m=\u001b[39m response\u001b[39m.\u001b[39mstatus_code \u001b[39m<\u001b[39m \u001b[39m300\u001b[39m:\n\u001b[1;32m--> 494\u001b[0m     \u001b[39mraise\u001b[39;00m exceptions\u001b[39m.\u001b[39mfrom_http_response(response)\n\u001b[0;32m    496\u001b[0m \u001b[39mif\u001b[39;00m expect_json \u001b[39mand\u001b[39;00m response\u001b[39m.\u001b[39mcontent:\n\u001b[0;32m    497\u001b[0m     \u001b[39mreturn\u001b[39;00m response\u001b[39m.\u001b[39mjson()\n",
      "\u001b[1;31mNotFound\u001b[0m: 404 GET https://storage.googleapis.com/storage/v1/b/afl-data/player_stats?projection=noAcl&prettyPrint=false: Not Found"
     ]
    }
   ],
   "source": [
    "upload_dataframe_to_gcs(service_account_file, gcs_bucket_name, 'player_stats_2023', df)"
   ]
  }
 ],
 "metadata": {
  "kernelspec": {
   "display_name": "Python 3",
   "language": "python",
   "name": "python3"
  },
  "language_info": {
   "codemirror_mode": {
    "name": "ipython",
    "version": 3
   },
   "file_extension": ".py",
   "mimetype": "text/x-python",
   "name": "python",
   "nbconvert_exporter": "python",
   "pygments_lexer": "ipython3",
   "version": "3.10.6"
  },
  "orig_nbformat": 4
 },
 "nbformat": 4,
 "nbformat_minor": 2
}
