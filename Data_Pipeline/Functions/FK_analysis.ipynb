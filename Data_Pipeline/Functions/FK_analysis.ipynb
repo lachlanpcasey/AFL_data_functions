{
 "cells": [
  {
   "cell_type": "code",
   "execution_count": 1,
   "metadata": {},
   "outputs": [],
   "source": [
    "from get_data_functions import func_initialise, fetch_fixture, fetch_player_stats\n",
    "import pandas as pd\n",
    "from pandasql import sqldf"
   ]
  },
  {
   "cell_type": "code",
   "execution_count": 2,
   "metadata": {},
   "outputs": [
    {
     "name": "stdout",
     "output_type": "stream",
     "text": [
      "Fitzroy Package imported\n",
      "tidyverse package imported\n",
      "dplyr package imported\n"
     ]
    }
   ],
   "source": [
    "func_initialise()"
   ]
  },
  {
   "cell_type": "code",
   "execution_count": 3,
   "metadata": {},
   "outputs": [
    {
     "name": "stdout",
     "output_type": "stream",
     "text": [
      "i Looking for data from 2023-01-01 to 2023-07-03\n",
      "i fetching cached data from <github.com>\n",
      "v fetching cached data from <github.com> ... done\n",
      "\n",
      "i New data found for 9 matches\n",
      "i Downloading data\n",
      "v Downloading data ... done\n",
      "\n",
      "i Processing XMLS\n",
      "v Processing XMLS ... done\n",
      "\n"
     ]
    },
    {
     "name": "stderr",
     "output_type": "stream",
     "text": [
      "R[write to console]: Finished getting afltables data\n",
      "\n"
     ]
    }
   ],
   "source": [
    "player_stats_2023_df = fetch_player_stats(source = 'afltables')"
   ]
  },
  {
   "cell_type": "code",
   "execution_count": 15,
   "metadata": {},
   "outputs": [
    {
     "data": {
      "text/plain": [
       "['Season',\n",
       " 'Round',\n",
       " 'Date',\n",
       " 'Local.start.time',\n",
       " 'Venue',\n",
       " 'Attendance',\n",
       " 'Home.team',\n",
       " 'HQ1G',\n",
       " 'HQ1B',\n",
       " 'HQ2G',\n",
       " 'HQ2B',\n",
       " 'HQ3G',\n",
       " 'HQ3B',\n",
       " 'HQ4G',\n",
       " 'HQ4B',\n",
       " 'Home.score',\n",
       " 'Away.team',\n",
       " 'AQ1G',\n",
       " 'AQ1B',\n",
       " 'AQ2G',\n",
       " 'AQ2B',\n",
       " 'AQ3G',\n",
       " 'AQ3B',\n",
       " 'AQ4G',\n",
       " 'AQ4B',\n",
       " 'Away.score',\n",
       " 'First.name',\n",
       " 'Surname',\n",
       " 'ID',\n",
       " 'Jumper.No.',\n",
       " 'Playing.for',\n",
       " 'Kicks',\n",
       " 'Marks',\n",
       " 'Handballs',\n",
       " 'Goals',\n",
       " 'Behinds',\n",
       " 'Hit.Outs',\n",
       " 'Tackles',\n",
       " 'Rebounds',\n",
       " 'Inside.50s',\n",
       " 'Clearances',\n",
       " 'Clangers',\n",
       " 'Frees.For',\n",
       " 'Frees.Against',\n",
       " 'Brownlow.Votes',\n",
       " 'Contested.Possessions',\n",
       " 'Uncontested.Possessions',\n",
       " 'Contested.Marks',\n",
       " 'Marks.Inside.50',\n",
       " 'One.Percenters',\n",
       " 'Bounces',\n",
       " 'Goal.Assists',\n",
       " 'Time.on.Ground..',\n",
       " 'Substitute',\n",
       " 'Umpire.1',\n",
       " 'Umpire.2',\n",
       " 'Umpire.3',\n",
       " 'Umpire.4',\n",
       " 'group_id']"
      ]
     },
     "execution_count": 15,
     "metadata": {},
     "output_type": "execute_result"
    }
   ],
   "source": [
    "player_stats_2023_df.columns.to_list()"
   ]
  },
  {
   "cell_type": "code",
   "execution_count": 5,
   "metadata": {},
   "outputs": [
    {
     "name": "stdout",
     "output_type": "stream",
     "text": [
      "         team.name  round.roundNumber  FK_diff\n",
      "54     Collingwood                  2     19.0\n",
      "60     Collingwood                  8     14.0\n",
      "221       St Kilda                  7     14.0\n",
      "80        Essendon                 13     14.0\n",
      "227       St Kilda                 14     13.0\n",
      "..             ...                ...      ...\n",
      "213       Richmond                 14    -13.0\n",
      "236   Sydney Swans                  8    -14.0\n",
      "51         Carlton                 13    -14.0\n",
      "191  Port Adelaide                  7    -14.0\n",
      "186  Port Adelaide                  2    -19.0\n",
      "\n",
      "[273 rows x 3 columns]\n"
     ]
    }
   ],
   "source": [
    "# Perform the aggregation and calculation\n",
    "aggregated_df_FK_round = player_stats_2023_df.groupby(['team.name', 'round.roundNumber']).agg({'freesFor': 'sum', 'freesAgainst': 'sum'}).reset_index()\n",
    "aggregated_df_FK_round['FK_diff'] = aggregated_df_FK_round['freesFor'] - aggregated_df_FK_round['freesAgainst']\n",
    "\n",
    "# Print the resulting DataFrame\n",
    "print(aggregated_df_FK_round[['team.name', 'round.roundNumber', 'FK_diff']].sort_values(ascending=False, by = 'FK_diff'))"
   ]
  },
  {
   "cell_type": "code",
   "execution_count": 6,
   "metadata": {},
   "outputs": [
    {
     "name": "stdout",
     "output_type": "stream",
     "text": [
      "            team.name  FK_diff\n",
      "2      Brisbane Lions     50.0\n",
      "15           St Kilda     42.0\n",
      "6           Fremantle     37.0\n",
      "4         Collingwood     33.0\n",
      "3             Carlton     28.0\n",
      "5            Essendon     16.0\n",
      "18   Western Bulldogs     11.0\n",
      "11          Melbourne      4.0\n",
      "17  West Coast Eagles      2.0\n",
      "0       NA_character_      0.0\n",
      "8        Geelong Cats     -8.0\n",
      "7          GWS Giants     -8.0\n",
      "1      Adelaide Crows    -16.0\n",
      "16       Sydney Swans    -17.0\n",
      "9     Gold Coast Suns    -18.0\n",
      "10           Hawthorn    -20.0\n",
      "14           Richmond    -36.0\n",
      "13      Port Adelaide    -41.0\n",
      "12    North Melbourne    -45.0\n"
     ]
    }
   ],
   "source": [
    "# Perform the aggregation and calculation\n",
    "aggregated_df_FK_total = player_stats_2023_df.groupby(['team.name']).agg({'freesFor': 'sum', 'freesAgainst': 'sum'}).reset_index()\n",
    "aggregated_df_FK_total['FK_diff'] = aggregated_df_FK_total['freesFor'] - aggregated_df_FK_total['freesAgainst']\n",
    "\n",
    "# Print the resulting DataFrame\n",
    "print(aggregated_df_FK_total[['team.name', 'FK_diff']].sort_values(ascending=False, by = 'FK_diff'))"
   ]
  },
  {
   "cell_type": "code",
   "execution_count": 7,
   "metadata": {},
   "outputs": [
    {
     "name": "stdout",
     "output_type": "stream",
     "text": [
      "            team.name  FK_diff  freesFor  freesAgainst\n",
      "2      Brisbane Lions     50.0     293.0         243.0\n",
      "15           St Kilda     42.0     274.0         232.0\n",
      "6           Fremantle     37.0     287.0         250.0\n",
      "4         Collingwood     33.0     296.0         263.0\n",
      "3             Carlton     28.0     284.0         256.0\n",
      "5            Essendon     16.0     252.0         236.0\n",
      "18   Western Bulldogs     11.0     265.0         254.0\n",
      "11          Melbourne      4.0     261.0         257.0\n",
      "17  West Coast Eagles      2.0     264.0         262.0\n",
      "0       NA_character_      0.0       0.0           0.0\n",
      "8        Geelong Cats     -8.0     267.0         275.0\n",
      "7          GWS Giants     -8.0     206.0         214.0\n",
      "1      Adelaide Crows    -16.0     298.0         314.0\n",
      "16       Sydney Swans    -17.0     277.0         294.0\n",
      "9     Gold Coast Suns    -18.0     264.0         282.0\n",
      "10           Hawthorn    -20.0     228.0         248.0\n",
      "14           Richmond    -36.0     240.0         276.0\n",
      "13      Port Adelaide    -41.0     285.0         326.0\n",
      "12    North Melbourne    -45.0     255.0         300.0\n"
     ]
    }
   ],
   "source": [
    "# Filter the player_stats_2023_df DataFrame\n",
    "filtered_df_home_FK_diff = player_stats_2023_df[player_stats_2023_df['team.name'] == player_stats_2023_df['home.team.name']]\n",
    "\n",
    "# Perform the aggregation and calculation\n",
    "aggregated_df_home_FK_total = filtered_df_home_FK_diff.groupby(['team.name']).agg({'freesFor': 'sum', 'freesAgainst': 'sum'}).reset_index()\n",
    "aggregated_df_home_FK_total['FK_diff'] = aggregated_df_home_FK_total['freesFor'] - aggregated_df_home_FK_total['freesAgainst']\n",
    "\n",
    "# Sort the DataFrame by FK_diff in descending order\n",
    "sorted_df = aggregated_df_FK_total.sort_values(by='FK_diff', ascending=False)\n",
    "\n",
    "# Print the resulting DataFrame\n",
    "print(sorted_df[['team.name', 'FK_diff', 'freesFor', 'freesAgainst']])"
   ]
  },
  {
   "cell_type": "code",
   "execution_count": 8,
   "metadata": {},
   "outputs": [
    {
     "name": "stdout",
     "output_type": "stream",
     "text": [
      "            team.name  freesFor  freesAgainst\n",
      "1      Adelaide Crows     298.0         314.0\n",
      "4         Collingwood     296.0         263.0\n",
      "2      Brisbane Lions     293.0         243.0\n",
      "6           Fremantle     287.0         250.0\n",
      "13      Port Adelaide     285.0         326.0\n",
      "3             Carlton     284.0         256.0\n",
      "16       Sydney Swans     277.0         294.0\n",
      "15           St Kilda     274.0         232.0\n",
      "8        Geelong Cats     267.0         275.0\n",
      "18   Western Bulldogs     265.0         254.0\n",
      "17  West Coast Eagles     264.0         262.0\n",
      "9     Gold Coast Suns     264.0         282.0\n",
      "11          Melbourne     261.0         257.0\n",
      "12    North Melbourne     255.0         300.0\n",
      "5            Essendon     252.0         236.0\n",
      "14           Richmond     240.0         276.0\n",
      "10           Hawthorn     228.0         248.0\n",
      "7          GWS Giants     206.0         214.0\n",
      "0       NA_character_       0.0           0.0\n"
     ]
    }
   ],
   "source": [
    "# Perform the aggregation and calculation\n",
    "aggregated_df_FK_total_sum = player_stats_2023_df.groupby(['team.name']).agg({'freesFor': 'sum', 'freesAgainst': 'sum'}).reset_index()\n",
    "\n",
    "# Print the resulting DataFrame\n",
    "print(aggregated_df_FK_total[['team.name', 'freesFor', 'freesAgainst']].sort_values(ascending=False, by = 'freesFor'))"
   ]
  },
  {
   "cell_type": "code",
   "execution_count": 15,
   "metadata": {},
   "outputs": [
    {
     "data": {
      "text/html": [
       "<div>\n",
       "<style scoped>\n",
       "    .dataframe tbody tr th:only-of-type {\n",
       "        vertical-align: middle;\n",
       "    }\n",
       "\n",
       "    .dataframe tbody tr th {\n",
       "        vertical-align: top;\n",
       "    }\n",
       "\n",
       "    .dataframe thead th {\n",
       "        text-align: right;\n",
       "    }\n",
       "</style>\n",
       "<table border=\"1\" class=\"dataframe\">\n",
       "  <thead>\n",
       "    <tr style=\"text-align: right;\">\n",
       "      <th></th>\n",
       "      <th>team.name</th>\n",
       "      <th>round.roundNumber</th>\n",
       "      <th>goals</th>\n",
       "      <th>behinds</th>\n",
       "      <th>behinds_goals_diff</th>\n",
       "    </tr>\n",
       "  </thead>\n",
       "  <tbody>\n",
       "    <tr>\n",
       "      <th>243</th>\n",
       "      <td>Sydney Swans</td>\n",
       "      <td>16</td>\n",
       "      <td>6.0</td>\n",
       "      <td>16.0</td>\n",
       "      <td>10.0</td>\n",
       "    </tr>\n",
       "    <tr>\n",
       "      <th>143</th>\n",
       "      <td>Hawthorn</td>\n",
       "      <td>2</td>\n",
       "      <td>4.0</td>\n",
       "      <td>13.0</td>\n",
       "      <td>9.0</td>\n",
       "    </tr>\n",
       "    <tr>\n",
       "      <th>71</th>\n",
       "      <td>Essendon</td>\n",
       "      <td>4</td>\n",
       "      <td>11.0</td>\n",
       "      <td>19.0</td>\n",
       "      <td>8.0</td>\n",
       "    </tr>\n",
       "    <tr>\n",
       "      <th>15</th>\n",
       "      <td>Adelaide Crows</td>\n",
       "      <td>7</td>\n",
       "      <td>7.0</td>\n",
       "      <td>13.0</td>\n",
       "      <td>6.0</td>\n",
       "    </tr>\n",
       "    <tr>\n",
       "      <th>51</th>\n",
       "      <td>Carlton</td>\n",
       "      <td>13</td>\n",
       "      <td>6.0</td>\n",
       "      <td>12.0</td>\n",
       "      <td>6.0</td>\n",
       "    </tr>\n",
       "    <tr>\n",
       "      <th>...</th>\n",
       "      <td>...</td>\n",
       "      <td>...</td>\n",
       "      <td>...</td>\n",
       "      <td>...</td>\n",
       "      <td>...</td>\n",
       "    </tr>\n",
       "    <tr>\n",
       "      <th>54</th>\n",
       "      <td>Collingwood</td>\n",
       "      <td>2</td>\n",
       "      <td>21.0</td>\n",
       "      <td>7.0</td>\n",
       "      <td>-14.0</td>\n",
       "    </tr>\n",
       "    <tr>\n",
       "      <th>151</th>\n",
       "      <td>Hawthorn</td>\n",
       "      <td>10</td>\n",
       "      <td>22.0</td>\n",
       "      <td>7.0</td>\n",
       "      <td>-15.0</td>\n",
       "    </tr>\n",
       "    <tr>\n",
       "      <th>21</th>\n",
       "      <td>Adelaide Crows</td>\n",
       "      <td>13</td>\n",
       "      <td>27.0</td>\n",
       "      <td>12.0</td>\n",
       "      <td>-15.0</td>\n",
       "    </tr>\n",
       "    <tr>\n",
       "      <th>104</th>\n",
       "      <td>GWS Giants</td>\n",
       "      <td>7</td>\n",
       "      <td>17.0</td>\n",
       "      <td>2.0</td>\n",
       "      <td>-15.0</td>\n",
       "    </tr>\n",
       "    <tr>\n",
       "      <th>162</th>\n",
       "      <td>Melbourne</td>\n",
       "      <td>7</td>\n",
       "      <td>22.0</td>\n",
       "      <td>3.0</td>\n",
       "      <td>-19.0</td>\n",
       "    </tr>\n",
       "  </tbody>\n",
       "</table>\n",
       "<p>273 rows × 5 columns</p>\n",
       "</div>"
      ],
      "text/plain": [
       "          team.name  round.roundNumber  goals  behinds  behinds_goals_diff\n",
       "243    Sydney Swans                 16    6.0     16.0                10.0\n",
       "143        Hawthorn                  2    4.0     13.0                 9.0\n",
       "71         Essendon                  4   11.0     19.0                 8.0\n",
       "15   Adelaide Crows                  7    7.0     13.0                 6.0\n",
       "51          Carlton                 13    6.0     12.0                 6.0\n",
       "..              ...                ...    ...      ...                 ...\n",
       "54      Collingwood                  2   21.0      7.0               -14.0\n",
       "151        Hawthorn                 10   22.0      7.0               -15.0\n",
       "21   Adelaide Crows                 13   27.0     12.0               -15.0\n",
       "104      GWS Giants                  7   17.0      2.0               -15.0\n",
       "162       Melbourne                  7   22.0      3.0               -19.0\n",
       "\n",
       "[273 rows x 5 columns]"
      ]
     },
     "execution_count": 15,
     "metadata": {},
     "output_type": "execute_result"
    }
   ],
   "source": [
    "# Perform the aggregation and calculation\n",
    "aggregated_df_behinds_goal_diff = player_stats_2023_df.groupby(['team.name','round.roundNumber']).agg({'goals': 'sum', 'behinds': 'sum'}).reset_index()\n",
    "aggregated_df_behinds_goal_diff['behinds_goals_diff'] = aggregated_df_behinds_goal_diff['behinds'] - aggregated_df_behinds_goal_diff['goals']\n",
    "aggregated_df_behinds_goal_diff.sort_values(by= 'behinds_goals_diff', ascending=False)"
   ]
  }
 ],
 "metadata": {
  "kernelspec": {
   "display_name": "Python 3",
   "language": "python",
   "name": "python3"
  },
  "language_info": {
   "codemirror_mode": {
    "name": "ipython",
    "version": 3
   },
   "file_extension": ".py",
   "mimetype": "text/x-python",
   "name": "python",
   "nbconvert_exporter": "python",
   "pygments_lexer": "ipython3",
   "version": "3.10.6"
  },
  "orig_nbformat": 4
 },
 "nbformat": 4,
 "nbformat_minor": 2
}
