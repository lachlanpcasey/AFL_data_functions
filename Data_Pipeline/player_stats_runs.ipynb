{
 "cells": [
  {
   "cell_type": "code",
   "execution_count": 1,
   "metadata": {},
   "outputs": [],
   "source": [
    "from gcs_upload import player_data_upload_to_gcs\n",
    "from gcs_to_bq import upload_player_stats_to_bigquery, create_combined_player_stats_table\n",
    "from google.cloud import bigquery, storage\n",
    "from config import service_account_file\n",
    "from Functions.get_data_functions import func_initialise"
   ]
  },
  {
   "cell_type": "code",
   "execution_count": 2,
   "metadata": {},
   "outputs": [
    {
     "name": "stdout",
     "output_type": "stream",
     "text": [
      "Fitzroy Package imported\n",
      "tidyverse package imported\n",
      "dplyr package imported\n"
     ]
    }
   ],
   "source": [
    "func_initialise()"
   ]
  },
  {
   "cell_type": "code",
   "execution_count": 3,
   "metadata": {},
   "outputs": [],
   "source": [
    "i = 2023"
   ]
  },
  {
   "cell_type": "code",
   "execution_count": 4,
   "metadata": {},
   "outputs": [
    {
     "name": "stdout",
     "output_type": "stream",
     "text": [
      "i Looking for data from 2023-01-01 to 2023-07-18\n",
      "i fetching cached data from <github.com>\n",
      "v fetching cached data from <github.com> ... done\n",
      "\n"
     ]
    },
    {
     "name": "stderr",
     "output_type": "stream",
     "text": [
      "R[write to console]: Finished getting afltables data\n",
      "\n"
     ]
    },
    {
     "name": "stdout",
     "output_type": "stream",
     "text": [
      "DataFrame uploaded as CSV to 'player_stats/player_stats_2023' in 'afl-data' bucket successfully.\n",
      "Table player_stats_2023_bq already exists in afl_player_data. Deleted existing table.\n",
      "Created table player_stats_2023_bq in afl_player_data.\n",
      "Table player_stats_2023_bq successfully created and data loaded in BigQuery.\n"
     ]
    }
   ],
   "source": [
    "while i<= 2023:\n",
    "    player_data_upload_to_gcs( year = i)\n",
    "    upload_player_stats_to_bigquery( year = i)\n",
    "    i+=1"
   ]
  },
  {
   "cell_type": "code",
   "execution_count": 5,
   "metadata": {},
   "outputs": [],
   "source": [
    "years = list(range(1970,2024))"
   ]
  },
  {
   "cell_type": "code",
   "execution_count": 6,
   "metadata": {},
   "outputs": [
    {
     "name": "stdout",
     "output_type": "stream",
     "text": [
      "Combined table 'afl_data.combined_player_stats_bq' created with data from tables: afl_player_data.player_stats_1970_bq, afl_player_data.player_stats_1971_bq, afl_player_data.player_stats_1972_bq, afl_player_data.player_stats_1973_bq, afl_player_data.player_stats_1974_bq, afl_player_data.player_stats_1975_bq, afl_player_data.player_stats_1976_bq, afl_player_data.player_stats_1977_bq, afl_player_data.player_stats_1978_bq, afl_player_data.player_stats_1979_bq, afl_player_data.player_stats_1980_bq, afl_player_data.player_stats_1981_bq, afl_player_data.player_stats_1982_bq, afl_player_data.player_stats_1983_bq, afl_player_data.player_stats_1984_bq, afl_player_data.player_stats_1985_bq, afl_player_data.player_stats_1986_bq, afl_player_data.player_stats_1987_bq, afl_player_data.player_stats_1988_bq, afl_player_data.player_stats_1989_bq, afl_player_data.player_stats_1990_bq, afl_player_data.player_stats_1991_bq, afl_player_data.player_stats_1992_bq, afl_player_data.player_stats_1993_bq, afl_player_data.player_stats_1994_bq, afl_player_data.player_stats_1995_bq, afl_player_data.player_stats_1996_bq, afl_player_data.player_stats_1997_bq, afl_player_data.player_stats_1998_bq, afl_player_data.player_stats_1999_bq, afl_player_data.player_stats_2000_bq, afl_player_data.player_stats_2001_bq, afl_player_data.player_stats_2002_bq, afl_player_data.player_stats_2003_bq, afl_player_data.player_stats_2004_bq, afl_player_data.player_stats_2005_bq, afl_player_data.player_stats_2006_bq, afl_player_data.player_stats_2007_bq, afl_player_data.player_stats_2008_bq, afl_player_data.player_stats_2009_bq, afl_player_data.player_stats_2010_bq, afl_player_data.player_stats_2011_bq, afl_player_data.player_stats_2012_bq, afl_player_data.player_stats_2013_bq, afl_player_data.player_stats_2014_bq, afl_player_data.player_stats_2015_bq, afl_player_data.player_stats_2016_bq, afl_player_data.player_stats_2017_bq, afl_player_data.player_stats_2018_bq, afl_player_data.player_stats_2019_bq, afl_player_data.player_stats_2020_bq, afl_player_data.player_stats_2021_bq, afl_player_data.player_stats_2022_bq, afl_player_data.player_stats_2023_bq\n"
     ]
    }
   ],
   "source": [
    "create_combined_player_stats_table(years)"
   ]
  }
 ],
 "metadata": {
  "kernelspec": {
   "display_name": "Python 3",
   "language": "python",
   "name": "python3"
  },
  "language_info": {
   "codemirror_mode": {
    "name": "ipython",
    "version": 3
   },
   "file_extension": ".py",
   "mimetype": "text/x-python",
   "name": "python",
   "nbconvert_exporter": "python",
   "pygments_lexer": "ipython3",
   "version": "3.10.6"
  },
  "orig_nbformat": 4
 },
 "nbformat": 4,
 "nbformat_minor": 2
}
