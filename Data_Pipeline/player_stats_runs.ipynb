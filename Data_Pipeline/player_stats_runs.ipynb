{
 "cells": [
  {
   "cell_type": "code",
   "execution_count": 1,
   "metadata": {},
   "outputs": [
    {
     "ename": "ModuleNotFoundError",
     "evalue": "No module named 'gcs_upload'",
     "output_type": "error",
     "traceback": [
      "\u001b[1;31m---------------------------------------------------------------------------\u001b[0m",
      "\u001b[1;31mModuleNotFoundError\u001b[0m                       Traceback (most recent call last)",
      "\u001b[1;32mc:\\Users\\Lachlan\\Desktop\\Coding Journey\\AFL Analysis\\fitzRoy Python Adapter\\AFL_data_functions\\Data_Pipeline\\Functions\\player_stats_runs.ipynb Cell 1\u001b[0m in \u001b[0;36m<cell line: 1>\u001b[1;34m()\u001b[0m\n\u001b[1;32m----> <a href='vscode-notebook-cell:/c%3A/Users/Lachlan/Desktop/Coding%20Journey/AFL%20Analysis/fitzRoy%20Python%20Adapter/AFL_data_functions/Data_Pipeline/Functions/player_stats_runs.ipynb#W0sZmlsZQ%3D%3D?line=0'>1</a>\u001b[0m \u001b[39mfrom\u001b[39;00m \u001b[39mgcs_upload\u001b[39;00m \u001b[39mimport\u001b[39;00m player_data_upload\n\u001b[0;32m      <a href='vscode-notebook-cell:/c%3A/Users/Lachlan/Desktop/Coding%20Journey/AFL%20Analysis/fitzRoy%20Python%20Adapter/AFL_data_functions/Data_Pipeline/Functions/player_stats_runs.ipynb#W0sZmlsZQ%3D%3D?line=1'>2</a>\u001b[0m \u001b[39mfrom\u001b[39;00m \u001b[39mgcs_to_bq\u001b[39;00m \u001b[39mimport\u001b[39;00m upload_player_stats_to_bigquery\n\u001b[0;32m      <a href='vscode-notebook-cell:/c%3A/Users/Lachlan/Desktop/Coding%20Journey/AFL%20Analysis/fitzRoy%20Python%20Adapter/AFL_data_functions/Data_Pipeline/Functions/player_stats_runs.ipynb#W0sZmlsZQ%3D%3D?line=2'>3</a>\u001b[0m \u001b[39mfrom\u001b[39;00m \u001b[39mgoogle\u001b[39;00m\u001b[39m.\u001b[39;00m\u001b[39mcloud\u001b[39;00m \u001b[39mimport\u001b[39;00m bigquery, storage\n",
      "\u001b[1;31mModuleNotFoundError\u001b[0m: No module named 'gcs_upload'"
     ]
    }
   ],
   "source": [
    "from gcs_upload import player_data_upload\n",
    "from gcs_to_bq import upload_player_stats_to_bigquery\n",
    "from google.cloud import bigquery, storage\n",
    "from config import service_account_file"
   ]
  },
  {
   "cell_type": "code",
   "execution_count": null,
   "metadata": {},
   "outputs": [],
   "source": [
    "upload_player_stats_to_bigquery(2023)"
   ]
  }
 ],
 "metadata": {
  "kernelspec": {
   "display_name": "Python 3",
   "language": "python",
   "name": "python3"
  },
  "language_info": {
   "codemirror_mode": {
    "name": "ipython",
    "version": 3
   },
   "file_extension": ".py",
   "mimetype": "text/x-python",
   "name": "python",
   "nbconvert_exporter": "python",
   "pygments_lexer": "ipython3",
   "version": "3.10.6"
  },
  "orig_nbformat": 4
 },
 "nbformat": 4,
 "nbformat_minor": 2
}
