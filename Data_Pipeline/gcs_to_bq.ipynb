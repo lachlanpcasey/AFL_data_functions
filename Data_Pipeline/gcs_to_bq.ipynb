{
 "cells": [
  {
   "cell_type": "code",
   "execution_count": 11,
   "metadata": {},
   "outputs": [],
   "source": [
    "from google.cloud import bigquery, storage\n",
    "from datetime import datetime\n",
    "from google.api_core import retry\n",
    "from google.cloud.exceptions import NotFound\n",
    "import sys\n",
    "from config import gcs_bucket_name, service_account_file\n",
    "import os"
   ]
  },
  {
   "cell_type": "code",
   "execution_count": 12,
   "metadata": {},
   "outputs": [],
   "source": [
    "os.environ['GOOGLE_APPLICATION_CREDENTIALS'] = service_account_file"
   ]
  },
  {
   "cell_type": "code",
   "execution_count": 13,
   "metadata": {},
   "outputs": [],
   "source": [
    "year = 2022"
   ]
  },
  {
   "cell_type": "code",
   "execution_count": 14,
   "metadata": {},
   "outputs": [],
   "source": [
    "# Instantiate a client object\n",
    "client = bigquery.Client.from_service_account_json(service_account_file)"
   ]
  },
  {
   "cell_type": "code",
   "execution_count": 15,
   "metadata": {},
   "outputs": [],
   "source": [
    "# Set up GCS client object\n",
    "storage_client = storage.Client.from_service_account_json(service_account_file)"
   ]
  },
  {
   "cell_type": "code",
   "execution_count": 16,
   "metadata": {},
   "outputs": [],
   "source": [
    "# Construct GCS URI for the file to be loaded\n",
    "gcs_uri = f'gs://{gcs_bucket_name}/player_stats/player_stats_{year}'\n",
    "\n",
    "# Construct table ID for BigQuery table\n",
    "table_id = f'player_stats_{year}_bq'"
   ]
  },
  {
   "cell_type": "code",
   "execution_count": 17,
   "metadata": {},
   "outputs": [],
   "source": [
    "# Construct reference to the BigQuery dataset\n",
    "dataset_ref = client.dataset('afl_player_data')"
   ]
  },
  {
   "cell_type": "code",
   "execution_count": 18,
   "metadata": {},
   "outputs": [],
   "source": [
    "# Define schema\n",
    "target_schema_player_stats = [\n",
    "    bigquery.SchemaField('Season', 'FLOAT', mode='NULLABLE'),\n",
    "    bigquery.SchemaField('Round', 'STRING', mode='NULLABLE'),\n",
    "    bigquery.SchemaField('Local_start_time', 'INTEGER', mode='NULLABLE'),\n",
    "    bigquery.SchemaField('Venue', 'STRING', mode='NULLABLE'),\n",
    "    bigquery.SchemaField('Attendance', 'FLOAT', mode='NULLABLE'),\n",
    "    bigquery.SchemaField('Home_team', 'STRING', mode='NULLABLE'),\n",
    "    bigquery.SchemaField('HQ1G', 'INTEGER', mode='NULLABLE'),\n",
    "    bigquery.SchemaField('HQ1B', 'INTEGER', mode='NULLABLE'),\n",
    "    bigquery.SchemaField('HQ2G', 'INTEGER', mode='NULLABLE'),\n",
    "    bigquery.SchemaField('HQ2B', 'INTEGER', mode='NULLABLE'),\n",
    "    bigquery.SchemaField('HQ3G', 'INTEGER', mode='NULLABLE'),\n",
    "    bigquery.SchemaField('HQ3B', 'INTEGER', mode='NULLABLE'),\n",
    "    bigquery.SchemaField('HQ4G', 'INTEGER', mode='NULLABLE'),\n",
    "    bigquery.SchemaField('HQ4B', 'INTEGER', mode='NULLABLE'),\n",
    "    bigquery.SchemaField('Home_score', 'INTEGER', mode='NULLABLE'),\n",
    "    bigquery.SchemaField('Away_team', 'STRING', mode='NULLABLE'),\n",
    "    bigquery.SchemaField('AQ1G', 'INTEGER', mode='NULLABLE'),\n",
    "    bigquery.SchemaField('AQ1B', 'INTEGER', mode='NULLABLE'),\n",
    "    bigquery.SchemaField('AQ2G', 'INTEGER', mode='NULLABLE'),\n",
    "    bigquery.SchemaField('AQ2B', 'INTEGER', mode='NULLABLE'),\n",
    "    bigquery.SchemaField('AQ3G', 'INTEGER', mode='NULLABLE'),\n",
    "    bigquery.SchemaField('AQ3B', 'INTEGER', mode='NULLABLE'),\n",
    "    bigquery.SchemaField('AQ4G', 'INTEGER', mode='NULLABLE'),\n",
    "    bigquery.SchemaField('AQ4B', 'INTEGER', mode='NULLABLE'),\n",
    "    bigquery.SchemaField('Away_score', 'INTEGER', mode='NULLABLE'),\n",
    "    bigquery.SchemaField('First_name', 'STRING', mode='NULLABLE'),\n",
    "    bigquery.SchemaField('Surname', 'STRING', mode='NULLABLE'),\n",
    "    bigquery.SchemaField('ID', 'FLOAT', mode='NULLABLE'),\n",
    "    bigquery.SchemaField('Jumper_No_', 'STRING', mode='NULLABLE'),\n",
    "    bigquery.SchemaField('Playing_for', 'STRING', mode='NULLABLE'),\n",
    "    bigquery.SchemaField('Kicks', 'FLOAT', mode='NULLABLE'),\n",
    "    bigquery.SchemaField('Marks', 'FLOAT', mode='NULLABLE'),\n",
    "    bigquery.SchemaField('Handballs', 'FLOAT', mode='NULLABLE'),\n",
    "    bigquery.SchemaField('Goals', 'FLOAT', mode='NULLABLE'),\n",
    "    bigquery.SchemaField('Behinds', 'FLOAT', mode='NULLABLE'),\n",
    "    bigquery.SchemaField('Hit_Outs', 'FLOAT', mode='NULLABLE'),\n",
    "    bigquery.SchemaField('Tackles', 'FLOAT', mode='NULLABLE'),\n",
    "    bigquery.SchemaField('Rebounds', 'FLOAT', mode='NULLABLE'),\n",
    "    bigquery.SchemaField('Inside_50s', 'FLOAT', mode='NULLABLE'),\n",
    "    bigquery.SchemaField('Clearances', 'FLOAT', mode='NULLABLE'),\n",
    "    bigquery.SchemaField('Clangers', 'FLOAT', mode='NULLABLE'),\n",
    "    bigquery.SchemaField('Frees_For', 'FLOAT', mode='NULLABLE'),\n",
    "    bigquery.SchemaField('Frees_Against', 'FLOAT', mode='NULLABLE'),\n",
    "    bigquery.SchemaField('Brownlow_Votes', 'FLOAT', mode='NULLABLE'),\n",
    "    bigquery.SchemaField('Contested_Possessions', 'FLOAT', mode='NULLABLE'),\n",
    "    bigquery.SchemaField('Uncontested_Possessions', 'FLOAT', mode='NULLABLE'),\n",
    "    bigquery.SchemaField('Contested_Marks', 'FLOAT', mode='NULLABLE'),\n",
    "    bigquery.SchemaField('Marks_Inside_50', 'FLOAT', mode='NULLABLE'),\n",
    "    bigquery.SchemaField('One_Percenters', 'FLOAT', mode='NULLABLE'),\n",
    "    bigquery.SchemaField('Bounces', 'FLOAT', mode='NULLABLE'),\n",
    "    bigquery.SchemaField('Goal_Assists', 'FLOAT', mode='NULLABLE'),\n",
    "    bigquery.SchemaField('Time_on_Ground__', 'FLOAT', mode='NULLABLE'),\n",
    "    bigquery.SchemaField('Substitute', 'INTEGER', mode='NULLABLE'),\n",
    "    bigquery.SchemaField('Umpire_1', 'STRING', mode='NULLABLE'),\n",
    "    bigquery.SchemaField('Umpire_2', 'STRING', mode='NULLABLE'),\n",
    "    bigquery.SchemaField('Umpire_3', 'STRING', mode='NULLABLE'),\n",
    "    bigquery.SchemaField('Umpire_4', 'STRING', mode='NULLABLE'),\n",
    "    bigquery.SchemaField('group_id', 'INTEGER', mode='NULLABLE'),\n",
    "    bigquery.SchemaField('year', 'INTEGER', mode='NULLABLE')\n",
    "]"
   ]
  },
  {
   "cell_type": "code",
   "execution_count": 19,
   "metadata": {},
   "outputs": [
    {
     "name": "stdout",
     "output_type": "stream",
     "text": [
      "Created table player_stats_2022_bq in afl_player_data.\n",
      "Table player_stats_2022_bq successfully created and data loaded in BigQuery.\n"
     ]
    }
   ],
   "source": [
    "# Check if table exists, create it if it doesn't\n",
    "table_ref = dataset_ref.table(table_id)\n",
    "try:\n",
    "    table = client.get_table(table_ref)\n",
    "    print(f'Table {table_id} already exists in {table.dataset_id}. Skipping data load.')\n",
    "except NotFound:\n",
    "    schema = target_schema_player_stats\n",
    "    table = bigquery.Table(table_ref, schema=schema)\n",
    "    table = client.create_table(table)\n",
    "    print(f'Created table {table.table_id} in {table.dataset_id}.')\n",
    "\n",
    "# Construct job configuration\n",
    "job_config = bigquery.LoadJobConfig(\n",
    "    schema=target_schema_player_stats,\n",
    "    skip_leading_rows=1,\n",
    "    source_format=bigquery.SourceFormat.CSV,\n",
    "    field_delimiter=','\n",
    ")\n",
    "\n",
    "# Construct the BigQuery load job\n",
    "load_job = client.load_table_from_uri(\n",
    "    gcs_uri,\n",
    "    dataset_ref.table(table_id),\n",
    "    job_config=job_config\n",
    ")\n",
    "\n",
    "# Wait for the load job to finish\n",
    "load_job.result()\n",
    "\n",
    "# Print message upon completion\n",
    "print(f'Table {table_id} successfully created and data loaded in BigQuery.')"
   ]
  }
 ],
 "metadata": {
  "kernelspec": {
   "display_name": "Python 3",
   "language": "python",
   "name": "python3"
  },
  "language_info": {
   "codemirror_mode": {
    "name": "ipython",
    "version": 3
   },
   "file_extension": ".py",
   "mimetype": "text/x-python",
   "name": "python",
   "nbconvert_exporter": "python",
   "pygments_lexer": "ipython3",
   "version": "3.10.6"
  },
  "orig_nbformat": 4
 },
 "nbformat": 4,
 "nbformat_minor": 2
}
